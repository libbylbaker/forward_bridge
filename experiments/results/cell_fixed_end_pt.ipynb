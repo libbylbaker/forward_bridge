{
 "cells": [
  {
   "cell_type": "code",
   "execution_count": 1,
   "id": "initial_id",
   "metadata": {
    "collapsed": true,
    "ExecuteTime": {
     "end_time": "2024-05-15T11:58:52.984065Z",
     "start_time": "2024-05-15T11:58:52.357855Z"
    }
   },
   "outputs": [],
   "source": [
    "import jax \n",
    "import jax.numpy as jnp\n",
    "\n",
    "x0 = [0.1, 0.1]\n",
    "y = [1.8, 0.2]\n",
    "T = 3.0\n",
    "N = 500"
   ]
  },
  {
   "cell_type": "code",
   "execution_count": 2,
   "outputs": [],
   "source": [
    "import src.models\n",
    "from src.training import train_utils\n",
    "import orbax.checkpoint\n",
    "\n",
    "\n",
    "def mean_and_std(trajs):\n",
    "    mean = jnp.mean(trajs, axis=0)\n",
    "    std = jnp.std(trajs, axis=0)\n",
    "    return mean, std\n",
    "\n",
    "\n",
    "def plot_mean_and_std(mean, std, ts, ax, fig, axs):\n",
    "    axs.plot(ts, mean[:, ax])\n",
    "    axs.fill_between(ts, mean[:, ax] - std[:, ax], mean[:, ax] + std[:, ax], alpha=0.5)\n",
    "    return fig, axs\n",
    "\n",
    "\n",
    "def load_checkpoint(checkpoint_path):\n",
    "    orbax_checkpointer = orbax.checkpoint.PyTreeCheckpointer()\n",
    "    restored = orbax_checkpointer.restore(checkpoint_path)\n",
    "    model = src.models.score_mlp.ScoreMLP(**restored[\"network\"])\n",
    "    params = restored[\"params\"]\n",
    "    trained_score = train_utils.trained_score(model, params)\n",
    "    return trained_score\n"
   ],
   "metadata": {
    "collapsed": false,
    "ExecuteTime": {
     "end_time": "2024-05-15T11:58:53.667243Z",
     "start_time": "2024-05-15T11:58:52.985168Z"
    }
   },
   "id": "29267960388e0b27"
  },
  {
   "cell_type": "markdown",
   "source": [
    "Load unconditioned trajectories"
   ],
   "metadata": {
    "collapsed": false
   },
   "id": "efa49d3bd9a5f0f3"
  },
  {
   "cell_type": "code",
   "execution_count": 3,
   "outputs": [],
   "source": [
    "from src.data_generate_sde import sde_cell_model\n",
    "\n",
    "fw_N = 500\n",
    "data_fn  = sde_cell_model.data_forward(x0, T, fw_N)\n",
    "keys = jax.random.split(jax.random.PRNGKey(10), 1000)\n",
    "\n",
    "ts_mult, forward_trajs, _ = data_fn(keys)\n",
    "ts = ts_mult[0, :, 0]\n",
    "\n"
   ],
   "metadata": {
    "collapsed": false,
    "ExecuteTime": {
     "end_time": "2024-05-15T11:58:54.713141Z",
     "start_time": "2024-05-15T11:58:53.667848Z"
    }
   },
   "id": "26b854fd61ad3e59"
  },
  {
   "cell_type": "markdown",
   "source": [
    "Load conditioned trajectories from proposed model"
   ],
   "metadata": {
    "collapsed": false
   },
   "id": "fa99e9ab5f3b40b2"
  },
  {
   "cell_type": "code",
   "execution_count": 4,
   "outputs": [],
   "source": [
    "from src.data_generate_sde import sde_cell_model\n",
    "from src.data_generate_sde import sde_utils\n",
    "import functools\n",
    "\n",
    "\n",
    "path = f\"/Users/libbybaker/Documents/Python/doobs-score-project/doobs_score_matching/checkpoints/cell/fixed_y_{y}_T_{T}_N_600\"\n",
    "\n",
    "ts_cond = jnp.linspace(0, T, N)\n",
    "\n",
    "trained_score = load_checkpoint(path)\n",
    "\n",
    "def conditioned_fn(key):\n",
    "    drift, diffusion = sde_cell_model.vector_fields()\n",
    "    traj = sde_utils.conditioned(key, ts_cond, x0, trained_score, drift, diffusion)\n",
    "    return traj\n",
    "\n",
    "\n",
    "keys = jax.random.split(jax.random.PRNGKey(20), 1000)\n",
    "conditioned_trajs = jax.vmap(conditioned_fn)(keys)"
   ],
   "metadata": {
    "collapsed": false,
    "ExecuteTime": {
     "end_time": "2024-05-15T11:58:55.358799Z",
     "start_time": "2024-05-15T11:58:54.714192Z"
    }
   },
   "id": "4332e2a27d2fce50"
  },
  {
   "cell_type": "markdown",
   "source": [
    "Load time reversed trajectories from diffusion bridge"
   ],
   "metadata": {
    "collapsed": false
   },
   "id": "66d497c83911733c"
  },
  {
   "cell_type": "code",
   "execution_count": 4,
   "outputs": [],
   "source": [],
   "metadata": {
    "collapsed": false,
    "ExecuteTime": {
     "end_time": "2024-05-15T11:58:55.363849Z",
     "start_time": "2024-05-15T11:58:55.358907Z"
    }
   },
   "id": "43a8f87f027aa268"
  },
  {
   "cell_type": "code",
   "execution_count": 5,
   "outputs": [],
   "source": [
    "import numpy as np\n",
    "\n",
    "diffusion_bridge_fw = np.load(\"/Users/libbybaker/Documents/Python/DiffusionBridge/cell_traj_T_3.0_X0_tensor([0.1000, 0.1000])_XT_tensor([1.8000, 0.2000])_M_600_100.npy\")\n",
    "\n",
    "time_steps = diffusion_bridge_fw.shape[1]\n",
    "ts_fw = np.linspace(0, T, time_steps)"
   ],
   "metadata": {
    "collapsed": false,
    "ExecuteTime": {
     "end_time": "2024-05-15T11:58:55.368199Z",
     "start_time": "2024-05-15T11:58:55.362089Z"
    }
   },
   "id": "3483b24176bb4727"
  },
  {
   "cell_type": "markdown",
   "source": [
    "Load trajectories from guided MH"
   ],
   "metadata": {
    "collapsed": false
   },
   "id": "195d4c7328fdd14"
  },
  {
   "cell_type": "code",
   "execution_count": 6,
   "outputs": [],
   "source": [
    "import pandas as pd\n",
    "import jax.numpy as jnp\n",
    "import numpy as np\n",
    "\n",
    "# Load the CSV file into a pandas DataFrame\n",
    "df = pd.read_csv('/Users/libbybaker/Documents/Bridge.jl/example/cell_model_runs/cell_T_3_x_0.1_y_[1.8, 0.2].csv')\n",
    "\n",
    "iterations = []\n",
    "for i in range(1000):\n",
    "    iteration = df[df['iteration'] == i]\n",
    "    vals = iteration['value'].values\n",
    "    vals = np.reshape(vals, (-1, 2))\n",
    "    iterations.append(vals)\n",
    "    \n",
    "guided_traj = jnp.asarray(iterations)\n",
    "time_steps = guided_traj.shape[1]\n",
    "ts_gt = np.linspace(0, T, time_steps)"
   ],
   "metadata": {
    "collapsed": false,
    "ExecuteTime": {
     "end_time": "2024-05-15T11:58:56.864102Z",
     "start_time": "2024-05-15T11:58:55.366529Z"
    }
   },
   "id": "886a831f7f914d9c"
  },
  {
   "cell_type": "markdown",
   "source": [
    "Plot everything"
   ],
   "metadata": {
    "collapsed": false
   },
   "id": "746c0801833e4bce"
  },
  {
   "cell_type": "code",
   "execution_count": 7,
   "outputs": [],
   "source": [
    "import matplotlib.pyplot as plt\n",
    "from tueplots import bundles, axes, cycler, figsizes\n",
    "from tueplots.constants.color import palettes\n",
    "\n",
    "bundle = bundles.neurips2023()\n",
    "plt.rcParams.update(bundle)\n",
    "plt.rcParams.update(cycler.cycler(color=palettes.paultol_muted))\n",
    "plt.rcParams.update(axes.lines())\n",
    "\n",
    "\n",
    "def plot_trajectories(trajs, ts, axis, axs, color, **plot_kwargs):\n",
    "    for traj in trajs:\n",
    "        axs.plot(ts, traj[:, axis], color=color, **plot_kwargs)\n",
    "    return axs"
   ],
   "metadata": {
    "collapsed": false,
    "ExecuteTime": {
     "end_time": "2024-05-15T11:58:57.106826Z",
     "start_time": "2024-05-15T11:58:56.865081Z"
    }
   },
   "id": "4c4d8aac0757c086"
  },
  {
   "cell_type": "code",
   "execution_count": 14,
   "outputs": [
    {
     "data": {
      "text/plain": "<Figure size 550x169.959 with 3 Axes>",
      "image/png": "[encoded data removed]"
     },
     "metadata": {},
     "output_type": "display_data"
    }
   ],
   "source": [
    "plt.rcParams.update(figsizes.neurips2023(nrows=1, ncols=2))\n",
    "\n",
    "fig, axs = plt.subplot_mosaic([[\"proposed\", \"forward\", \"guided\"]], sharex=True, sharey=True)\n",
    "\n",
    "upper_max = 2.3\n",
    "upper_min = 1.3\n",
    "lower_max = 0.7\n",
    "lower_min = -1.0\n",
    "\n",
    "plot_kwargs_true = {\"linewidth\": 0.8, \"alpha\": 0.05}\n",
    "plot_kwargs = {\"linewidth\": 0.8, \"alpha\": 0.3}\n",
    "\n",
    "for ax in axs[\"proposed\"], axs[\"guided\"], axs[\"forward\"]:\n",
    "    \n",
    "    for traj in forward_trajs:\n",
    "        if traj[-1, 0] > upper_min and lower_min < traj[-1, 1] < lower_max:\n",
    "            ax.plot(ts, traj[:, 0], color='grey', **plot_kwargs_true)\n",
    "            ax.plot(ts, traj[:, 1], color='grey', **plot_kwargs_true)\n",
    "        if traj[-1, 1] > upper_min and lower_min < traj[-1, 0] < lower_max:\n",
    "            ax.plot(ts, traj[:, 1], color='grey', **plot_kwargs_true)\n",
    "            ax.plot(ts, traj[:, 0], color='grey', **plot_kwargs_true)\n",
    "            \n",
    "    ax.set_xlim(-0.01, 3.01)\n",
    "    ax.set_xlabel(\"Time $t$\")\n",
    "    ax.plot([0, 3, 3], [0.1, 1.8, 0.2], marker=\"X\",markersize=5, markeredgewidth=0.5, linestyle=\"None\", zorder=10, color=\"black\", markeredgecolor=\"white\")\n",
    "  \n",
    "axs[\"guided\"] = plot_trajectories(guided_traj[:100], ts_gt, 0, axs[\"guided\"], 'C0', **plot_kwargs)\n",
    "axs[\"guided\"] = plot_trajectories(guided_traj[:100], ts_gt, 1, axs[\"guided\"], 'C1', **plot_kwargs)\n",
    "axs[\"guided\"].set_title(\"Guided MCMC\")\n",
    "\n",
    "\n",
    "axs[\"forward\"] = plot_trajectories(diffusion_bridge_fw[:100], ts_fw, 0, axs[\"forward\"], 'C0', **plot_kwargs)\n",
    "axs[\"forward\"] = plot_trajectories(diffusion_bridge_fw[:100], ts_fw, 1, axs[\"forward\"], 'C1', **plot_kwargs)\n",
    "axs[\"forward\"].set_title(\"Time reversed bridge\")\n",
    "\n",
    "\n",
    "axs[\"proposed\"] = plot_trajectories(conditioned_trajs[:100], ts_cond, 0, axs[\"proposed\"], 'C0', **plot_kwargs)\n",
    "axs[\"proposed\"] = plot_trajectories(conditioned_trajs[:100], ts_cond, 1, axs[\"proposed\"], 'C1', **plot_kwargs)\n",
    "axs[\"proposed\"].set_title(\"Proposed\")\n",
    "\n",
    "\n",
    "plt.savefig(\"messy_plot.pdf\")\n",
    "# fig, axs = plot_trajectories(diffusion_bridge_fw, ts_gt, 0, fig, axs, 'C2', alpha=0.5)"
   ],
   "metadata": {
    "collapsed": false,
    "ExecuteTime": {
     "end_time": "2024-05-15T12:07:56.973845Z",
     "start_time": "2024-05-15T12:07:45.699675Z"
    }
   },
   "id": "f41115843ef34504"
  },
  {
   "cell_type": "code",
   "execution_count": 9,
   "outputs": [
    {
     "ename": "AssertionError",
     "evalue": "",
     "output_type": "error",
     "traceback": [
      "\u001B[0;31m---------------------------------------------------------------------------\u001B[0m",
      "\u001B[0;31mAssertionError\u001B[0m                            Traceback (most recent call last)",
      "Cell \u001B[0;32mIn[9], line 1\u001B[0m\n\u001B[0;32m----> 1\u001B[0m \u001B[38;5;28;01massert\u001B[39;00m \u001B[38;5;28;01mFalse\u001B[39;00m\n",
      "\u001B[0;31mAssertionError\u001B[0m: "
     ]
    }
   ],
   "source": [
    "assert False"
   ],
   "metadata": {
    "collapsed": false,
    "ExecuteTime": {
     "end_time": "2024-05-15T11:59:05.401516Z",
     "start_time": "2024-05-15T11:59:05.196483Z"
    }
   },
   "id": "f26107a0af422ed4"
  },
  {
   "cell_type": "code",
   "execution_count": null,
   "outputs": [],
   "source": [
    "from src.plotting import plot_score_2d\n",
    "\n",
    "plot_score_2d(learned_score=trained_score)"
   ],
   "metadata": {
    "collapsed": false,
    "ExecuteTime": {
     "end_time": "2024-05-15T11:59:05.407269Z",
     "start_time": "2024-05-15T11:59:05.402808Z"
    }
   },
   "id": "3ecc4e12d41e2750"
  },
  {
   "cell_type": "code",
   "execution_count": null,
   "outputs": [],
   "source": [
    "checkpoint_path_forward = f\"/Users/libbybaker/Documents/Python/doobs-score-project/doobs_score_matching/checkpoints/cell/forward/fixed_x0_{x0}\"\n",
    "\n",
    "restored_f = orbax_checkpointer.restore(checkpoint_path_forward)\n",
    "model_f = src.models.score_mlp.ScoreMLP(**restored_f[\"network\"])\n",
    "params_f = restored_f[\"params\"]\n",
    "trained_score_forward= utils.trained_score(model_f, params_f)"
   ],
   "metadata": {
    "collapsed": false,
    "ExecuteTime": {
     "start_time": "2024-05-15T11:59:05.404912Z"
    }
   },
   "id": "6440d95e685227a5"
  },
  {
   "cell_type": "code",
   "execution_count": null,
   "outputs": [],
   "source": [
    "from src.data_generate_sde import utils as sde_utils\n",
    "from src.data_generate_sde import sde_cell_model, time\n",
    "import functools\n",
    "import jax\n",
    "import matplotlib.pyplot as plt\n",
    "\n",
    "ts = time.grid(0, T, 400)\n",
    "\n",
    "drift, diffusion = sde_cell_model.vector_fields()\n",
    "bw_fn = functools.partial(sde_utils.backward, ts=ts, y=y, score_fn=trained_score_forward, drift=drift, diffusion=diffusion)\n",
    "\n",
    "keys = jax.random.split(jax.random.PRNGKey(0), 100)\n",
    "\n",
    "conditioned_trajs = jax.vmap(bw_fn)(keys)\n",
    "\n",
    "for traj in conditioned_trajs:\n",
    "    plt.plot(ts, traj[:, 0])\n",
    "plt.show()\n",
    "\n",
    "for traj in conditioned_trajs:\n",
    "    plt.plot(ts, traj[:, 1])\n",
    "plt.show()"
   ],
   "metadata": {
    "collapsed": false,
    "ExecuteTime": {
     "start_time": "2024-05-15T11:59:05.406881Z"
    }
   },
   "id": "5a4ecd4f2e40c2c0"
  },
  {
   "cell_type": "code",
   "execution_count": null,
   "outputs": [],
   "source": [
    "from src.plotting import plot_score_2d\n",
    "\n",
    "plot_score_2d(learned_score=trained_score_forward)"
   ],
   "metadata": {
    "collapsed": false,
    "ExecuteTime": {
     "start_time": "2024-05-15T11:59:05.408812Z"
    }
   },
   "id": "7f798a85c878b4fc"
  },
  {
   "cell_type": "code",
   "execution_count": null,
   "outputs": [],
   "source": [],
   "metadata": {
    "collapsed": false,
    "ExecuteTime": {
     "start_time": "2024-05-15T11:59:05.410333Z"
    }
   },
   "id": "597d7a376e6bab79"
  },
  {
   "cell_type": "code",
   "execution_count": null,
   "outputs": [],
   "source": [
    "import src.models\n",
    "\n",
    "import orbax.checkpoint\n",
    "from src.training import utils\n",
    "from src.data_generate_sde import time\n",
    "\n",
    "orbax_checkpointer = orbax.checkpoint.PyTreeCheckpointer()\n",
    "\n",
    "x0 = [0.1, 0.1]\n",
    "y = [2.0, 0.3]\n",
    "T = 2.0\n",
    "ts = time.grid(0, T, 400)\n",
    "\n",
    "\n",
    "checkpoint_path_23 = f\"/Users/libbybaker/Documents/Python/doobs-score-project/doobs_score_matching/checkpoints/cell/fixed_y_{y}_T_{T}\"\n",
    "restored_23 = orbax_checkpointer.restore(checkpoint_path_23)\n",
    "model_23 = src.models.score_mlp.ScoreMLP(**restored_23[\"network\"])\n",
    "params_23 = restored_23[\"params\"]\n",
    "trained_score_23 = utils.trained_score(model_23, params_23)\n",
    "sde_23 = restored_23[\"sde\"]\n",
    "print(sde_23)"
   ],
   "metadata": {
    "collapsed": false,
    "ExecuteTime": {
     "start_time": "2024-05-15T11:59:05.411715Z"
    }
   },
   "id": "f3c9dfece7522411"
  },
  {
   "cell_type": "code",
   "execution_count": null,
   "outputs": [],
   "source": [
    "from src.data_generate_sde import utils as sde_utils\n",
    "from src.data_generate_sde import sde_cell_model, time\n",
    "import functools\n",
    "import jax\n",
    "import matplotlib.pyplot as plt\n",
    "\n",
    "drift, diffusion = sde_cell_model.vector_fields()\n",
    "conditioned_fn = functools.partial(sde_utils.conditioned, ts=ts, x0=x0, score_fn=trained_score_23, drift=drift, diffusion=diffusion)\n",
    "\n",
    "keys = jax.random.split(jax.random.PRNGKey(0), 100)\n",
    "\n",
    "conditioned_trajs = jax.vmap(conditioned_fn)(keys)\n",
    "\n",
    "for traj in conditioned_trajs:\n",
    "    plt.plot(ts, traj[:, 0])\n",
    "plt.show()\n",
    "\n",
    "for traj in conditioned_trajs:\n",
    "    plt.plot(ts, traj[:, 1])\n",
    "plt.show()"
   ],
   "metadata": {
    "collapsed": false,
    "ExecuteTime": {
     "start_time": "2024-05-15T11:59:05.413484Z"
    }
   },
   "id": "d6d9ef6827a6e95f"
  },
  {
   "cell_type": "code",
   "execution_count": null,
   "outputs": [],
   "source": [
    "import src.models\n",
    "\n",
    "import orbax.checkpoint\n",
    "from src.training import utils\n",
    "from src.data_generate_sde import time\n",
    "\n",
    "orbax_checkpointer = orbax.checkpoint.PyTreeCheckpointer()\n",
    "\n",
    "x0 = [0.1, 0.1]\n",
    "y = [2.0, 0.3]\n",
    "T = 4.0\n",
    "ts = time.grid(0, T, 400)\n",
    "\n",
    "\n",
    "checkpoint_path_T4 = f\"/Users/libbybaker/Documents/Python/doobs-score-project/doobs_score_matching/checkpoints/cell/fixed_y_{y}_T_{T}\"\n",
    "restored_T4 = orbax_checkpointer.restore(checkpoint_path_T4)\n",
    "model_T4 = src.models.score_mlp.ScoreMLP(**restored_T4[\"network\"])\n",
    "params_T4 = restored_T4[\"params\"]\n",
    "trained_score_T4 = utils.trained_score(model_T4, params_T4)\n",
    "sde_T4 = restored_T4[\"sde\"]\n",
    "print(sde_T4)"
   ],
   "metadata": {
    "collapsed": false,
    "ExecuteTime": {
     "start_time": "2024-05-15T11:59:05.414487Z"
    }
   },
   "id": "75f8c11ee5354eaf"
  },
  {
   "cell_type": "code",
   "execution_count": null,
   "outputs": [],
   "source": [
    "from src.data_generate_sde import utils as sde_utils\n",
    "from src.data_generate_sde import sde_cell_model, time\n",
    "import functools\n",
    "import jax\n",
    "import matplotlib.pyplot as plt\n",
    "\n",
    "drift, diffusion = sde_cell_model.vector_fields()\n",
    "conditioned_fn = functools.partial(sde_utils.conditioned, ts=ts, x0=x0, score_fn=trained_score_T4, drift=drift, diffusion=diffusion)\n",
    "\n",
    "keys = jax.random.split(jax.random.PRNGKey(0), 100)\n",
    "\n",
    "conditioned_trajs = jax.vmap(conditioned_fn)(keys)\n",
    "\n",
    "for traj in conditioned_trajs:\n",
    "    plt.plot(ts, traj[:, 0])\n",
    "plt.show()\n",
    "\n",
    "for traj in conditioned_trajs:\n",
    "    plt.plot(ts, traj[:, 1])\n",
    "plt.show()"
   ],
   "metadata": {
    "collapsed": false,
    "ExecuteTime": {
     "start_time": "2024-05-15T11:59:05.415412Z"
    }
   },
   "id": "c21e88245ad8be22"
  },
  {
   "cell_type": "code",
   "execution_count": null,
   "outputs": [],
   "source": [
    "import src.models\n",
    "\n",
    "import orbax.checkpoint\n",
    "from src.training import utils\n",
    "from src.data_generate_sde import time\n",
    "\n",
    "orbax_checkpointer = orbax.checkpoint.PyTreeCheckpointer()\n",
    "\n",
    "x0 = [0.1, 0.1]\n",
    "y = [2.0, 0.3]\n",
    "T = 30.0\n",
    "ts = time.grid(0, T, 400)\n",
    "\n",
    "\n",
    "# checkpoint_path_guided = f\"/Users/libbybaker/Documents/Python/doobs-score-project/doobs_score_matching/checkpoints/cell/fixed_x0_{x0}_y_{y}\"\n",
    "\n",
    "checkpoint_path_guided = f\"/Users/libbybaker/Documents/Python/doobs-score-project/doobs_score_matching/checkpoints/cell/fixed_y_{y}_T_{T}_forward_data\"\n",
    "\n",
    "restored_guided = orbax_checkpointer.restore(checkpoint_path_guided)\n",
    "model_guided = src.models.score_mlp.ScoreMLP(**restored_guided[\"network\"])\n",
    "params_guided = restored_guided[\"params\"]\n",
    "trained_score_guided = utils.trained_score(model_guided, params_guided)\n",
    "sde_guided = restored_guided[\"sde\"]\n",
    "print(sde_guided)"
   ],
   "metadata": {
    "collapsed": false,
    "ExecuteTime": {
     "start_time": "2024-05-15T11:59:05.416564Z"
    }
   },
   "id": "90d7ff21e0e6d0d9"
  },
  {
   "cell_type": "code",
   "execution_count": null,
   "outputs": [],
   "source": [
    "from src.data_generate_sde import utils as sde_utils\n",
    "from src.data_generate_sde import sde_cell_model, time\n",
    "import functools\n",
    "import jax\n",
    "import matplotlib.pyplot as plt\n",
    "\n",
    "drift, diffusion = sde_cell_model.vector_fields()\n",
    "conditioned_fn = functools.partial(sde_utils.conditioned, ts=ts, x0=x0, score_fn=trained_score_guided, drift=drift, diffusion=diffusion)\n",
    "\n",
    "keys = jax.random.split(jax.random.PRNGKey(0), 100)\n",
    "\n",
    "conditioned_trajs = jax.vmap(conditioned_fn)(keys)\n",
    "\n",
    "for traj in conditioned_trajs:\n",
    "    plt.plot(ts, traj[:, 0])\n",
    "plt.show()\n",
    "\n",
    "for traj in conditioned_trajs:\n",
    "    plt.plot(ts, traj[:, 1])\n",
    "plt.show()"
   ],
   "metadata": {
    "collapsed": false,
    "ExecuteTime": {
     "start_time": "2024-05-15T11:59:05.417637Z"
    }
   },
   "id": "e3f4ad6d2a0ba1e2"
  },
  {
   "cell_type": "code",
   "execution_count": null,
   "outputs": [],
   "source": [],
   "metadata": {
    "collapsed": false,
    "ExecuteTime": {
     "start_time": "2024-05-15T11:59:05.418934Z"
    }
   },
   "id": "2fd7eb5a32fce5e5"
  }
 ],
 "metadata": {
  "kernelspec": {
   "display_name": "Python 3",
   "language": "python",
   "name": "python3"
  },
  "language_info": {
   "codemirror_mode": {
    "name": "ipython",
    "version": 2
   },
   "file_extension": ".py",
   "mimetype": "text/x-python",
   "name": "python",
   "nbconvert_exporter": "python",
   "pygments_lexer": "ipython2",
   "version": "2.7.6"
  }
 },
 "nbformat": 4,
 "nbformat_minor": 5
}
