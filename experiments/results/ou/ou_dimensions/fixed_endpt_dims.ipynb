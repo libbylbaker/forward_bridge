{
 "cells": [
  {
   "cell_type": "code",
   "execution_count": 1,
   "id": "initial_id",
   "metadata": {
    "collapsed": true,
    "ExecuteTime": {
     "end_time": "2024-06-26T16:06:44.656671Z",
     "start_time": "2024-06-26T16:06:43.701494Z"
    }
   },
   "outputs": [],
   "source": [
    "import jax.numpy as jnp\n",
    "import jax\n",
    "import numpy as np\n",
    "\n",
    "import src.models\n",
    "import orbax.checkpoint\n",
    "from src.training import train_utils"
   ]
  },
  {
   "cell_type": "code",
   "execution_count": 5,
   "outputs": [
    {
     "name": "stdout",
     "output_type": "stream",
     "text": [
      "Training\n",
      "Epoch: 0, Loss: 1.3166911602020264\n",
      "Epoch: 1, Loss: 1.2980905771255493\n",
      "Epoch: 2, Loss: 1.288357138633728\n",
      "Epoch: 3, Loss: 1.29068922996521\n",
      "Epoch: 4, Loss: 1.2763872146606445\n",
      "Epoch: 5, Loss: 1.2719473838806152\n",
      "Epoch: 6, Loss: 1.2728832960128784\n",
      "Epoch: 7, Loss: 1.269546627998352\n",
      "Epoch: 8, Loss: 1.2682572603225708\n",
      "Epoch: 9, Loss: 1.270167589187622\n"
     ]
    }
   ],
   "source": [
    "# from experiments.ou import train_score_fixed_endpt\n",
    "# \n",
    "# dims = np.arange(4, 5)\n",
    "# key = jax.random.PRNGKey(1)\n",
    "# for dim in dims:\n",
    "#     train_score_fixed_endpt.main(key, n=dim)"
   ],
   "metadata": {
    "collapsed": false,
    "ExecuteTime": {
     "end_time": "2024-05-10T17:45:01.018815Z",
     "start_time": "2024-05-10T17:44:58.336736Z"
    }
   },
   "id": "2639efab5768b5d3"
  },
  {
   "cell_type": "markdown",
   "source": [
    "Setup to load in checkpoint"
   ],
   "metadata": {
    "collapsed": false
   },
   "id": "686eba7e2e914bf1"
  },
  {
   "cell_type": "code",
   "execution_count": 2,
   "outputs": [],
   "source": [
    "orbax_checkpointer = orbax.checkpoint.PyTreeCheckpointer()\n",
    "\n",
    "T = 1.0\n",
    "N = 100\n",
    "\n",
    "def get_score(dim):\n",
    "    checkpoint_path = f\"/Users/libbybaker/Documents/Python/doobs-score-project/doobs_score_matching/checkpoints/ou/reverse/fixed_y_1_d_{dim}\"\n",
    "    restored = orbax_checkpointer.restore(checkpoint_path)\n",
    "    model = src.models.score_mlp.ScoreMLP(**restored[\"network\"])\n",
    "    params = restored[\"params\"]\n",
    "    trained_score = train_utils.trained_score(model, params)\n",
    "    sde = restored[\"sde\"]\n",
    "    return trained_score, sde\n",
    "\n",
    "\n",
    "def get_score_forward(dim):\n",
    "    x0 = jnp.ones(shape=(dim,))\n",
    "    checkpoint_path = f\"/Users/libbybaker/Documents/Python/doobs-score-project/doobs_score_matching/checkpoints/ou/forward/fixed_x0_{x0}\"\n",
    "    restored = orbax_checkpointer.restore(checkpoint_path)\n",
    "    model = src.models.score_mlp.ScoreMLP(**restored[\"network\"])\n",
    "    params = restored[\"params\"]\n",
    "    trained_score = train_utils.trained_score(model, params)\n",
    "    sde = restored[\"sde\"]\n",
    "    return trained_score, sde\n"
   ],
   "metadata": {
    "collapsed": false,
    "ExecuteTime": {
     "end_time": "2024-06-26T16:07:00.095914Z",
     "start_time": "2024-06-26T16:07:00.091414Z"
    }
   },
   "id": "974c319ce28b31bb"
  },
  {
   "cell_type": "markdown",
   "source": [
    "Find errors for different d and T"
   ],
   "metadata": {
    "collapsed": false
   },
   "id": "7ca4f241e31ef929"
  },
  {
   "cell_type": "code",
   "execution_count": 3,
   "outputs": [],
   "source": [
    "def error(ts, true_score, trained_score, sde, x0):\n",
    "    \"\"\"mean squared error between true and trained score\"\"\"\n",
    "    true = jax.vmap(true_score, in_axes=(0, None, None, None))(ts, x0, sde[\"T\"], sde[\"y\"])\n",
    "    trained = jax.vmap(trained_score, in_axes=(0, None))(ts, x0)\n",
    "    return jnp.mean((true - trained) ** 2)\n",
    "\n",
    "def error_forward(ts, true_score, trained_score, sde, y):\n",
    "    \"\"\"mean squared error between true and trained score\"\"\"\n",
    "    true = jax.vmap(true_score, in_axes=(None, None, 0, None))(0, sde[\"x0\"], ts, y)\n",
    "    trained = jax.vmap(trained_score, in_axes=(0, None))(ts, y)\n",
    "    return jnp.mean((true - trained) ** 2)"
   ],
   "metadata": {
    "collapsed": false,
    "ExecuteTime": {
     "end_time": "2024-06-26T16:07:01.789254Z",
     "start_time": "2024-06-26T16:07:01.778131Z"
    }
   },
   "id": "8fc007321cb2d406"
  },
  {
   "cell_type": "code",
   "execution_count": null,
   "outputs": [],
   "source": [
    "from src.sdes import sde_ornstein_uhlenbeck\n",
    "\n",
    "errors = []\n",
    "\n",
    "true_score = sde_ornstein_uhlenbeck.score\n",
    "for d in ds:\n",
    "    trained_score_, sde_ = get_score(d)\n",
    "    error_d_ = error(ts[:-1], true_score, trained_score_, sde_, sde_[\"x0\"])\n",
    "    errors.append(error_d_)\n",
    "np.save(\"ou_errors_reverse_dim_1_to_32.npy\", errors)\n",
    "\n",
    "forward_errors = []\n",
    "true_score_forward = sde_ornstein_uhlenbeck.score_forward\n",
    "for d in ds:\n",
    "    trained_score_, sde_ = get_score_forward(d)\n",
    "    error_d_ = error_forward(ts[1:], true_score_forward, trained_score_, sde_, sde_[\"y\"])\n",
    "    forward_errors.append(error_d_)   \n",
    "np.save(\"ou_errors_forward_dim_1_to_32.npy\", forward_errors)"
   ],
   "metadata": {
    "collapsed": false
   },
   "id": "493cbb47cd41fdb2"
  },
  {
   "cell_type": "code",
   "execution_count": null,
   "outputs": [],
   "source": [
    "from tueplots import bundles, axes, cycler\n",
    "from tueplots.constants.color import palettes\n",
    "import matplotlib.pyplot as plt\n",
    "\n",
    "bundle = bundles.neurips2023()\n",
    "plt.rcParams.update(bundle)\n",
    "axes.lines()\n",
    "plt.rcParams.update(cycler.cycler(color=palettes.paultol_muted))\n",
    "\n",
    "\n"
   ],
   "metadata": {
    "collapsed": false
   },
   "id": "6eef61d7d9cb334b"
  },
  {
   "cell_type": "markdown",
   "source": [
    "Error plots for different d"
   ],
   "metadata": {
    "collapsed": false
   },
   "id": "76319d18d0f2916c"
  },
  {
   "cell_type": "code",
   "execution_count": null,
   "outputs": [],
   "source": [
    "from src.sdes import sde_ornstein_uhlenbeck, time\n",
    "\n",
    "ds = np.arange(1, 33)\n",
    "ts = time.grid(0, T, 100)\n",
    "\n",
    "\n",
    "errors = np.load(\"dimensions/ou_errors_reverse_dim_1_to_32.npy\")    \n",
    "errors_diffusion_bridge = np.load(\"/Users/libbybaker/Documents/Python/DiffusionBridge/diffusion_bridge_errors_forward_dims_1_to_32.npy\")\n",
    "errors_diffusion_bridge_reverse = np.load(\"/Users/libbybaker/Documents/Python/DiffusionBridge/diffusion_bridge_errors_backward_dims_1_to_16.npy\")\n",
    "\n",
    "plt.semilogy(ds, errors_diffusion_bridge, \"o-\", label=\"DiffusionBridge (forward)\", markersize=5)\n",
    "plt.semilogy(ds, errors, \"o-\", label=\"Our method\", markersize=5)\n",
    "plt.semilogy(ds[:16], errors_diffusion_bridge_reverse, \"o-\", label=\"DiffusionBridge (reverse)\", markersize=5)\n",
    "# plt.semilogx(ds, forward_errors, \"o-\", label=\"Forward\")\n",
    "plt.legend()\n",
    "# plt.xticks(ds, ds)\n",
    "plt.xlabel(\"Dimension\")\n",
    "plt.ylabel(\"Mean Squared Error\")\n",
    "# plt.ylim((-1, 5))\n",
    "plt.savefig(\"dim_comparison.pdf\")\n",
    "plt.show()\n",
    "\n",
    "\n",
    "\n"
   ],
   "metadata": {
    "collapsed": false
   },
   "id": "ade7aed9d3958fcb"
  },
  {
   "cell_type": "code",
   "execution_count": 10,
   "outputs": [
    {
     "name": "stdout",
     "output_type": "stream",
     "text": [
      "{'batch_size': 100, 'epochs_per_load': 1, 'load_size': 1000, 'lr': 0.01, 'num_reloads': 100}\n",
      "{'activation': 'leaky_relu', 'decoder_layer_dims': [128, 128], 'encoder_layer_dims': [16], 'init_embedding_dim': 16, 'output_dim': 20, 'time_embedding_dim': 16}\n"
     ]
    }
   ],
   "source": [
    "orbax_checkpointer = orbax.checkpoint.PyTreeCheckpointer()\n",
    "\n",
    "checkpoint_path = f\"/Users/libbybaker/Documents/Python/doobs-score-project/doobs_score_matching/checkpoints/ou/dims/fixed_y_1_d_20\"\n",
    "restored = orbax_checkpointer.restore(checkpoint_path)\n",
    "print(restored[\"training\"])\n",
    "print(restored[\"network\"])"
   ],
   "metadata": {
    "collapsed": false,
    "ExecuteTime": {
     "end_time": "2024-05-10T17:49:04.400192Z",
     "start_time": "2024-05-10T17:49:04.382247Z"
    }
   },
   "id": "a605ab4a06ec59f9"
  },
  {
   "cell_type": "code",
   "execution_count": null,
   "outputs": [],
   "source": [],
   "metadata": {
    "collapsed": false
   },
   "id": "3e3c34c1b48f27f2"
  },
  {
   "cell_type": "code",
   "execution_count": null,
   "outputs": [],
   "source": [],
   "metadata": {
    "collapsed": false
   },
   "id": "85e87aea0d94bc85"
  },
  {
   "cell_type": "code",
   "execution_count": null,
   "outputs": [],
   "source": [],
   "metadata": {
    "collapsed": false
   },
   "id": "3a119e12f75869e6"
  }
 ],
 "metadata": {
  "kernelspec": {
   "display_name": "Python 3",
   "language": "python",
   "name": "python3"
  },
  "language_info": {
   "codemirror_mode": {
    "name": "ipython",
    "version": 2
   },
   "file_extension": ".py",
   "mimetype": "text/x-python",
   "name": "python",
   "nbconvert_exporter": "python",
   "pygments_lexer": "ipython2",
   "version": "2.7.6"
  }
 },
 "nbformat": 4,
 "nbformat_minor": 5
}
