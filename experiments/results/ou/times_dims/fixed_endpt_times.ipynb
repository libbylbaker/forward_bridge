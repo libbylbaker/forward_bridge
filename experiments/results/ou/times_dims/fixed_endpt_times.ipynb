{
 "cells": [
  {
   "cell_type": "code",
   "execution_count": 1,
   "id": "initial_id",
   "metadata": {
    "collapsed": true,
    "ExecuteTime": {
     "end_time": "2024-06-26T17:32:13.626746Z",
     "start_time": "2024-06-26T17:32:13.263925Z"
    }
   },
   "outputs": [],
   "source": [
    "import jax.numpy as jnp\n",
    "import jax\n",
    "import numpy as np\n"
   ]
  },
  {
   "cell_type": "markdown",
   "source": [
    "Setup to load in checkpoint"
   ],
   "metadata": {
    "collapsed": false
   },
   "id": "686eba7e2e914bf1"
  },
  {
   "cell_type": "code",
   "execution_count": 2,
   "outputs": [],
   "source": [
    "import os.path\n",
    "from experiments.plotting import load_checkpoint_w_batch_stats, load_checkpoint_wo_batch_stats\n",
    "\n",
    "N = 100\n",
    "\n",
    "def get_score(time=1):\n",
    "    checkpoint_path = os.path.abspath(f\"../../../checkpoints/ou/times/fixed_y_1_T_{time}\")\n",
    "    # checkpoint_path = os.path.abspath(f\"../../../checkpoints/ou/1/dim_1_T_{time}\")\n",
    "\n",
    "    trained_score, restored = load_checkpoint_w_batch_stats(checkpoint_path)\n",
    "    return trained_score, restored\n",
    "\n",
    "def get_score_dims(d):\n",
    "    # checkpoint_path = os.path.abspath(f\"../../../checkpoints/ou/dims/fixed_y_1_d_{d}\")\n",
    "    checkpoint_path = os.path.abspath(f\"../../../checkpoints/ou/1/dim_{d}_T_1.0\")\n",
    "\n",
    "    trained_score, restored = load_checkpoint_w_batch_stats(checkpoint_path)\n",
    "    return trained_score, restored\n"
   ],
   "metadata": {
    "collapsed": false,
    "ExecuteTime": {
     "end_time": "2024-06-26T17:32:14.447650Z",
     "start_time": "2024-06-26T17:32:13.623722Z"
    }
   },
   "id": "974c319ce28b31bb"
  },
  {
   "cell_type": "markdown",
   "source": [
    "Find errors for different d and T"
   ],
   "metadata": {
    "collapsed": false
   },
   "id": "7ca4f241e31ef929"
  },
  {
   "cell_type": "code",
   "execution_count": 3,
   "outputs": [],
   "source": [
    "def error(ts, true_score, trained_score, sde, x0):\n",
    "    \"\"\"mean squared error between true and trained score\"\"\"\n",
    "    true = jax.vmap(true_score, in_axes=(0, None, None, None))(ts, x0, sde[\"T\"], sde[\"y\"])\n",
    "    trained = jax.vmap(trained_score, in_axes=(0, None))(ts, x0)\n",
    "    return jnp.mean((true - trained) ** 2)\n",
    "\n",
    "def error_forward(ts, true_score, trained_score, sde, y):\n",
    "    \"\"\"mean squared error between true and trained score\"\"\"\n",
    "    true = jax.vmap(true_score, in_axes=(None, None, 0, None))(0, sde[\"x0\"], ts, y)\n",
    "    trained = jax.vmap(trained_score, in_axes=(0, None))(ts, y)\n",
    "    return jnp.mean((true - trained) ** 2)"
   ],
   "metadata": {
    "collapsed": false,
    "ExecuteTime": {
     "end_time": "2024-06-26T17:32:14.452366Z",
     "start_time": "2024-06-26T17:32:14.450878Z"
    }
   },
   "id": "8fc007321cb2d406"
  },
  {
   "cell_type": "code",
   "execution_count": 4,
   "outputs": [
    {
     "name": "stdout",
     "output_type": "stream",
     "text": [
      "{'activation': 'leaky_relu', 'batch_norm': False, 'decoder_layer_dims': [128, 128], 'encoder_layer_dims': [16], 'init_embedding_dim': 16, 'output_dim': 1, 'time_embedding_dim': 32}\n",
      "{'batch_size': 100, 'epochs_per_load': 1, 'load_size': 1000, 'lr': 0.01, 'num_reloads': 100}\n",
      "{'N': 100, 'T': array(1, dtype=int32), 'dim': 1, 'y': array([1.], dtype=float32)}\n"
     ]
    }
   ],
   "source": [
    "_, restored = get_score(1)\n",
    "print(restored[\"network\"])\n",
    "print(restored[\"training\"])\n",
    "print(restored[\"sde\"])"
   ],
   "metadata": {
    "collapsed": false,
    "ExecuteTime": {
     "end_time": "2024-06-26T17:32:14.475642Z",
     "start_time": "2024-06-26T17:32:14.455115Z"
    }
   },
   "id": "4e458db3bff2cbe9"
  },
  {
   "cell_type": "code",
   "execution_count": 12,
   "outputs": [
    {
     "name": "stdout",
     "output_type": "stream",
     "text": [
      "Error for T=1: 0.07658929377794266\n",
      "Error for T=2: 0.01592535711824894\n",
      "Error for T=3: 0.009281196631491184\n",
      "Error for T=4: 0.018465371802449226\n",
      "Error for T=5: 0.039476267993450165\n",
      "Error for T=6: 0.028070563450455666\n",
      "Error for T=7: 0.031579434871673584\n",
      "Error for T=8: 0.05813705176115036\n",
      "Error for T=9: 0.23409712314605713\n",
      "Error for T=10: 0.2661789655685425\n",
      "Error for T=11: 0.1676660180091858\n",
      "Error for T=12: 0.0930444747209549\n",
      "Error for T=13: 0.04620394855737686\n",
      "Error for T=14: 0.03787989169359207\n",
      "Error for T=15: 0.04040781781077385\n",
      "Error for T=16: 0.03283161669969559\n",
      "Error for d=1: 0.07658929377794266\n",
      "Error for d=2: 0.02714884653687477\n",
      "Error for d=3: 0.04169312119483948\n",
      "Error for d=4: 0.13116970658302307\n",
      "Error for d=5: 0.05124256759881973\n",
      "Error for d=6: 0.11005113273859024\n",
      "Error for d=7: 0.06762397289276123\n",
      "Error for d=8: 0.1051810011267662\n",
      "Error for d=9: 0.10558116436004639\n",
      "Error for d=10: 0.5716361999511719\n",
      "Error for d=11: 0.4418051838874817\n",
      "Error for d=12: 0.3839656412601471\n",
      "Error for d=13: 0.5138060450553894\n",
      "Error for d=14: 0.5356748104095459\n",
      "Error for d=15: 0.5114392638206482\n",
      "Error for d=16: 0.5033160448074341\n"
     ]
    }
   ],
   "source": [
    "from src.sdes import sde_ornstein_uhlenbeck, time\n",
    "errors = []\n",
    "times = np.arange(1, 17)\n",
    "true_score = sde_ornstein_uhlenbeck.score\n",
    "for T in times:\n",
    "    ts = time.grid(0, T, 100)\n",
    "    trained_score_, restored = get_score(T)\n",
    "    sde_ = restored[\"sde\"]\n",
    "    error_d_ = error(ts[:-1], true_score, trained_score_, sde_, sde_[\"y\"])\n",
    "    errors.append(error_d_)\n",
    "np.save(\"ou_errors_reverse_times_1_to_16.npy\", errors)\n",
    "\n",
    "forward_errors = []\n",
    "ds = np.arange(1, 17)\n",
    "ts = time.grid(0, 1., 100)\n",
    "for d in ds:\n",
    "    trained_score_, restored = get_score_dims(d)\n",
    "    sde_ = restored[\"sde\"]\n",
    "    error_d_ = error(ts[:-1], true_score, trained_score_, sde_, sde_[\"y\"])\n",
    "    forward_errors.append(error_d_)\n",
    "np.save(\"ou_errors_reverse_dim_1_to_16.npy\", forward_errors)"
   ],
   "metadata": {
    "collapsed": false,
    "ExecuteTime": {
     "end_time": "2024-06-26T17:32:52.290157Z",
     "start_time": "2024-06-26T17:32:49.121897Z"
    }
   },
   "id": "493cbb47cd41fdb2"
  },
  {
   "cell_type": "code",
   "execution_count": 6,
   "outputs": [],
   "source": [
    "from tueplots import bundles, axes, cycler\n",
    "from tueplots.constants.color import palettes\n",
    "import matplotlib.pyplot as plt\n",
    "\n",
    "bundle = bundles.neurips2023()\n",
    "plt.rcParams.update(bundle)\n",
    "axes.lines()\n",
    "plt.rcParams.update(cycler.cycler(color=palettes.paultol_muted))\n",
    "\n",
    "\n"
   ],
   "metadata": {
    "collapsed": false,
    "ExecuteTime": {
     "end_time": "2024-06-26T17:32:18.912210Z",
     "start_time": "2024-06-26T17:32:18.905945Z"
    }
   },
   "id": "6eef61d7d9cb334b"
  },
  {
   "cell_type": "markdown",
   "source": [
    "Error plots for different d"
   ],
   "metadata": {
    "collapsed": false
   },
   "id": "76319d18d0f2916c"
  },
  {
   "cell_type": "code",
   "execution_count": 15,
   "outputs": [
    {
     "data": {
      "text/plain": "<Figure size 550x169.959 with 1 Axes>",
      "image/png": "[encoded data removed]"
     },
     "metadata": {},
     "output_type": "display_data"
    }
   ],
   "source": [
    "\n",
    "times = np.arange(1, 16)\n",
    "\n",
    "errors = np.load(\"ou_errors_reverse_times_1_to_16.npy\")    \n",
    "\n",
    "errors_diffusion_bridge = np.load(\"/Users/libbybaker/Documents/Python/DiffusionBridge/ornstein_uhlenbeck/diffusion_bridge_errors_forward_times_1_to_15.npy\")\n",
    "\n",
    "errors_diffusion_bridge_reverse = np.load(\"/Users/libbybaker/Documents/Python/DiffusionBridge/ornstein_uhlenbeck/diffusion_bridge_errors_backward_times_1_to_15.npy\")\n",
    "\n",
    "plt.semilogy(times, errors[:-1], \"o-\", label=\"Our method\", markersize=5)\n",
    "plt.semilogy(times, errors_diffusion_bridge, \"o-\", label=\"DiffusionBridge (forward)\", markersize=5)\n",
    "plt.semilogy(times, errors_diffusion_bridge_reverse, \"o-\", label=\"DiffusionBridge (reverse)\", markersize=5)\n",
    "# plt.semilogx(ds, forward_errors, \"o-\", label=\"Forward\")\n",
    "plt.legend()\n",
    "# plt.xticks(ds, ds)\n",
    "plt.xlabel(r\"End time $T$\")\n",
    "plt.ylabel(\"Mean Squared Error\")\n",
    "# plt.ylim((-1, 5))\n",
    "plt.savefig(\"time_comparison.pdf\")\n",
    "plt.show()\n"
   ],
   "metadata": {
    "collapsed": false,
    "ExecuteTime": {
     "end_time": "2024-06-26T17:34:09.856352Z",
     "start_time": "2024-06-26T17:34:09.397725Z"
    }
   },
   "id": "ade7aed9d3958fcb"
  },
  {
   "cell_type": "code",
   "execution_count": 8,
   "outputs": [],
   "source": [
    "from tueplots import bundles, axes, cycler, figsizes\n",
    "from tueplots.constants.color import palettes\n",
    "import matplotlib.pyplot as plt\n",
    "\n",
    "bundle = bundles.neurips2023()\n",
    "plt.rcParams.update(bundle)\n",
    "axes.lines()\n",
    "plt.rcParams.update(cycler.cycler(color=palettes.paultol_muted))\n",
    "\n"
   ],
   "metadata": {
    "collapsed": false,
    "ExecuteTime": {
     "end_time": "2024-06-26T17:32:19.652156Z",
     "start_time": "2024-06-26T17:32:19.649694Z"
    }
   },
   "id": "3528349e02109a99"
  },
  {
   "cell_type": "markdown",
   "source": [
    "Create Subplots for both time and dimension"
   ],
   "metadata": {
    "collapsed": false
   },
   "id": "c338b9ea403a1e14"
  },
  {
   "cell_type": "code",
   "execution_count": 16,
   "outputs": [],
   "source": [
    "times = np.arange(1, 16)\n",
    "\n",
    "errors_t = np.load(\"ou_errors_reverse_times_1_to_16.npy\")    \n",
    "errors_t_diffusion_bridge = np.load(\"/Users/libbybaker/Documents/Python/DiffusionBridge/ornstein_uhlenbeck/diffusion_bridge_errors_forward_times_1_to_15.npy\")\n",
    "errors_t_diffusion_bridge_reverse = np.load(\"/Users/libbybaker/Documents/Python/DiffusionBridge/ornstein_uhlenbeck/diffusion_bridge_errors_backward_times_1_to_15.npy\")\n"
   ],
   "metadata": {
    "collapsed": false,
    "ExecuteTime": {
     "end_time": "2024-06-26T17:34:35.383329Z",
     "start_time": "2024-06-26T17:34:35.371572Z"
    }
   },
   "id": "5c741a21d99c1a2"
  },
  {
   "cell_type": "code",
   "execution_count": 17,
   "outputs": [],
   "source": [
    "\n",
    "from src.sdes import sde_ornstein_uhlenbeck, time\n",
    "\n",
    "ds = np.arange(1, 33)\n",
    "ts = time.grid(0, 1., 100)\n",
    "\n",
    "errors_d = np.load(\"ou_errors_reverse_dim_1_to_16.npy\") \n",
    "\n",
    "errors_d_diffusion_bridge = np.load(\"/Users/libbybaker/Documents/Python/DiffusionBridge/dims/diffusion_bridge_errors_forward_dims_1_to_32.npy\")\n",
    "errors_d_diffusion_bridge_reverse = np.load(\"/Users/libbybaker/Documents/Python/DiffusionBridge/dims/diffusion_bridge_errors_backward_dims_1_to_16.npy\")\n"
   ],
   "metadata": {
    "collapsed": false,
    "ExecuteTime": {
     "end_time": "2024-06-26T17:34:41.624078Z",
     "start_time": "2024-06-26T17:34:41.612950Z"
    }
   },
   "id": "cd13dcd9fc816ecd"
  },
  {
   "cell_type": "code",
   "execution_count": 19,
   "outputs": [
    {
     "data": {
      "text/plain": "<Figure size 550x169.959 with 2 Axes>",
      "image/png": "[encoded data removed]"
     },
     "metadata": {},
     "output_type": "display_data"
    }
   ],
   "source": [
    "plt.rcParams.update(figsizes.neurips2023(nrows=1, ncols=2))\n",
    "fig, axs = plt.subplots(nrows=1, ncols=2, sharey=False, sharex=False)\n",
    "\n",
    "axs[0].semilogy(times, errors_t[:-1], \"o-\", label=\"Ours\", markersize=3)\n",
    "axs[0].semilogy(times, errors_t_diffusion_bridge, \"o-\", label=\"DB (forward)\", markersize=3)\n",
    "axs[0].semilogy(times, errors_t_diffusion_bridge_reverse, \"o-\", label=\"DB (reverse)\", markersize=3)\n",
    "axs[0].set_xlabel(r\"End time $T$\")\n",
    "axs[0].set_ylabel(\"Mean Squared Error\")\n",
    "\n",
    "axs[1].semilogy(ds[:16], errors_d, \"o-\", label=\"Ours\", markersize=3)\n",
    "axs[1].semilogy(ds, errors_d_diffusion_bridge, \"o-\", label=\"DB (forward)\", markersize=3)\n",
    "axs[1].semilogy(ds[:16], errors_d_diffusion_bridge_reverse, \"o-\", label=\"DB (reverse)\", markersize=3)\n",
    "axs[1].set_xlabel(\"Dimension\")\n",
    "axs[1].legend()\n",
    "\n",
    "plt.savefig(\"time_and_dims_errors.pdf\")\n"
   ],
   "metadata": {
    "collapsed": false,
    "ExecuteTime": {
     "end_time": "2024-06-26T17:35:52.266340Z",
     "start_time": "2024-06-26T17:35:51.540126Z"
    }
   },
   "id": "3e3c34c1b48f27f2"
  },
  {
   "cell_type": "markdown",
   "source": [],
   "metadata": {
    "collapsed": false
   },
   "id": "8d004a4509c54603"
  }
 ],
 "metadata": {
  "kernelspec": {
   "display_name": "Python 3",
   "language": "python",
   "name": "python3"
  },
  "language_info": {
   "codemirror_mode": {
    "name": "ipython",
    "version": 2
   },
   "file_extension": ".py",
   "mimetype": "text/x-python",
   "name": "python",
   "nbconvert_exporter": "python",
   "pygments_lexer": "ipython2",
   "version": "2.7.6"
  }
 },
 "nbformat": 4,
 "nbformat_minor": 5
}
