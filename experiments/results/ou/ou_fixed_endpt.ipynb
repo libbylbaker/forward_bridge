{
 "cells": [
  {
   "cell_type": "code",
   "execution_count": 1,
   "id": "initial_id",
   "metadata": {
    "collapsed": true,
    "ExecuteTime": {
     "end_time": "2024-07-22T12:48:37.641222Z",
     "start_time": "2024-07-22T12:48:36.703188Z"
    }
   },
   "outputs": [],
   "source": [
    "import jax.numpy as jnp\n",
    "import jax\n",
    "import numpy as np\n",
    "\n",
    "import src.models\n",
    "import orbax.checkpoint\n",
    "from src.training import train_utils"
   ]
  },
  {
   "cell_type": "markdown",
   "source": [
    "Setup to load in checkpoint"
   ],
   "metadata": {
    "collapsed": false
   },
   "id": "686eba7e2e914bf1"
  },
  {
   "cell_type": "code",
   "execution_count": 2,
   "outputs": [],
   "source": [
    "orbax_checkpointer = orbax.checkpoint.PyTreeCheckpointer()\n",
    "\n",
    "T = 1.0\n",
    "N = 100\n",
    "y=(1.0,)\n",
    "\n",
    "def get_score(checkpoint_path):\n",
    "    restored = orbax_checkpointer.restore(checkpoint_path)\n",
    "    model = src.models.score_mlp.ScoreMLP(**restored[\"network\"])\n",
    "    params = restored[\"params\"]\n",
    "    trained_score = train_utils.trained_score(model, params)\n",
    "    sde = restored[\"sde\"]\n",
    "    return trained_score, sde\n"
   ],
   "metadata": {
    "collapsed": false,
    "ExecuteTime": {
     "end_time": "2024-07-22T12:48:37.645158Z",
     "start_time": "2024-07-22T12:48:37.643429Z"
    }
   },
   "id": "974c319ce28b31bb"
  },
  {
   "cell_type": "code",
   "execution_count": 3,
   "outputs": [],
   "source": [
    "def error(ts, true_score, trained_score, sde, x0):\n",
    "    \"\"\"mean squared error between true and trained score\"\"\"\n",
    "    true = jax.vmap(true_score, in_axes=(0, None, None, None))(ts, x0, sde[\"T\"], sde[\"y\"])\n",
    "    trained = jax.vmap(trained_score, in_axes=(0, None))(ts, x0)\n",
    "    return jnp.mean((true - trained) ** 2)\n",
    "\n",
    "def error_forward(ts, true_score, trained_score, sde, y):\n",
    "    \"\"\"mean squared error between true and trained score\"\"\"\n",
    "    true = jax.vmap(true_score, in_axes=(None, None, 0, None))(0, sde[\"x0\"], ts, y)\n",
    "    trained = jax.vmap(trained_score, in_axes=(0, None))(ts, y)\n",
    "    return jnp.mean((true - trained) ** 2)"
   ],
   "metadata": {
    "collapsed": false,
    "ExecuteTime": {
     "end_time": "2024-07-22T12:48:37.649082Z",
     "start_time": "2024-07-22T12:48:37.647574Z"
    }
   },
   "id": "8fc007321cb2d406"
  },
  {
   "cell_type": "code",
   "execution_count": 4,
   "outputs": [
    {
     "ename": "ModuleNotFoundError",
     "evalue": "No module named 'src.data_generate_sde'",
     "output_type": "error",
     "traceback": [
      "\u001B[0;31m---------------------------------------------------------------------------\u001B[0m",
      "\u001B[0;31mModuleNotFoundError\u001B[0m                       Traceback (most recent call last)",
      "Cell \u001B[0;32mIn[4], line 2\u001B[0m\n\u001B[1;32m      1\u001B[0m \u001B[38;5;28;01mfrom\u001B[39;00m \u001B[38;5;21;01msrc\u001B[39;00m\u001B[38;5;21;01m.\u001B[39;00m\u001B[38;5;21;01mplotting\u001B[39;00m \u001B[38;5;28;01mimport\u001B[39;00m plot_score\n\u001B[0;32m----> 2\u001B[0m \u001B[38;5;28;01mfrom\u001B[39;00m \u001B[38;5;21;01msrc\u001B[39;00m\u001B[38;5;21;01m.\u001B[39;00m\u001B[38;5;21;01mdata_generate_sde\u001B[39;00m \u001B[38;5;28;01mimport\u001B[39;00m sde_ornstein_uhlenbeck \u001B[38;5;28;01mas\u001B[39;00m ou\n\u001B[1;32m      3\u001B[0m \u001B[38;5;28;01mimport\u001B[39;00m \u001B[38;5;21;01mmatplotlib\u001B[39;00m\u001B[38;5;21;01m.\u001B[39;00m\u001B[38;5;21;01mpyplot\u001B[39;00m \u001B[38;5;28;01mas\u001B[39;00m \u001B[38;5;21;01mplt\u001B[39;00m\n\u001B[1;32m      5\u001B[0m checkpoint_path \u001B[38;5;241m=\u001B[39m \u001B[38;5;124mf\u001B[39m\u001B[38;5;124m\"\u001B[39m\u001B[38;5;124m/Users/libbybaker/Documents/Python/doobs-score-project/doobs_score_matching/checkpoints/ou/fixed_y\u001B[39m\u001B[38;5;132;01m{\u001B[39;00my\u001B[38;5;132;01m}\u001B[39;00m\u001B[38;5;124m_10_reloads\u001B[39m\u001B[38;5;124m\"\u001B[39m\n",
      "\u001B[0;31mModuleNotFoundError\u001B[0m: No module named 'src.data_generate_sde'"
     ]
    }
   ],
   "source": [
    "from src.plotting import plot_score\n",
    "from src.sdes import sde_ornstein_uhlenbeck as ou\n",
    "import matplotlib.pyplot as plt\n",
    "\n",
    "checkpoint_path = f\"/Users/libbybaker/Documents/Python/doobs-score-project/doobs_score_matching/checkpoints/ou/fixed_y{y}_10_reloads\"\n",
    "trained_score, sde = get_score(checkpoint_path)\n",
    "true_score = ou.score\n",
    "fig, axs = plot_score(true_score, trained_score, T, y, x=jnp.linspace(-3, 6, 1000)[..., None],\n",
    "                      t=jnp.asarray([0.0, 0.05, 0.1, 0.25, 0.5, 0.75]),)\n",
    "plt.show()"
   ],
   "metadata": {
    "collapsed": false,
    "ExecuteTime": {
     "end_time": "2024-07-22T12:48:38.106377Z",
     "start_time": "2024-07-22T12:48:37.650722Z"
    }
   },
   "id": "a605ab4a06ec59f9"
  },
  {
   "cell_type": "code",
   "execution_count": null,
   "outputs": [],
   "source": [
    "from src.plotting import plot_score\n",
    "from src.data_generate_sde import sde_ornstein_uhlenbeck as ou\n",
    "import matplotlib.pyplot as plt\n",
    "\n",
    "checkpoint_path = f\"/Users/libbybaker/Documents/Python/doobs-score-project/doobs_score_matching/checkpoints/ou/dims/fixed_y_1_d_1\"\n",
    "trained_score, sde = get_score(checkpoint_path)\n",
    "true_score = ou.score\n",
    "fig, axs = plot_score(true_score, trained_score, T, y, x=jnp.linspace(-3, 6, 1000)[..., None],\n",
    "                      t=jnp.asarray([0.0, 0.05, 0.1, 0.25, 0.5, 0.75]),)\n",
    "plt.show()"
   ],
   "metadata": {
    "collapsed": false,
    "ExecuteTime": {
     "end_time": "2024-07-22T12:48:38.111151Z",
     "start_time": "2024-07-22T12:48:38.108969Z"
    }
   },
   "id": "7b5c24014f5be9"
  },
  {
   "cell_type": "code",
   "execution_count": null,
   "outputs": [],
   "source": [],
   "metadata": {
    "collapsed": false,
    "ExecuteTime": {
     "start_time": "2024-07-22T12:48:38.110987Z"
    }
   },
   "id": "3e3c34c1b48f27f2"
  },
  {
   "cell_type": "code",
   "execution_count": null,
   "outputs": [],
   "source": [],
   "metadata": {
    "collapsed": false,
    "ExecuteTime": {
     "start_time": "2024-07-22T12:48:38.112392Z"
    }
   },
   "id": "85e87aea0d94bc85"
  },
  {
   "cell_type": "code",
   "execution_count": null,
   "outputs": [],
   "source": [],
   "metadata": {
    "collapsed": false,
    "ExecuteTime": {
     "start_time": "2024-07-22T12:48:38.113371Z"
    }
   },
   "id": "3a119e12f75869e6"
  }
 ],
 "metadata": {
  "kernelspec": {
   "display_name": "Python 3",
   "language": "python",
   "name": "python3"
  },
  "language_info": {
   "codemirror_mode": {
    "name": "ipython",
    "version": 2
   },
   "file_extension": ".py",
   "mimetype": "text/x-python",
   "name": "python",
   "nbconvert_exporter": "python",
   "pygments_lexer": "ipython2",
   "version": "2.7.6"
  }
 },
 "nbformat": 4,
 "nbformat_minor": 5
}
