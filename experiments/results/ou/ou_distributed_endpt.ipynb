{
 "cells": [
  {
   "cell_type": "code",
   "execution_count": 1,
   "id": "initial_id",
   "metadata": {
    "collapsed": true,
    "ExecuteTime": {
     "end_time": "2024-07-22T12:48:24.258523Z",
     "start_time": "2024-07-22T12:48:22.957326Z"
    }
   },
   "outputs": [],
   "source": [
    "import src.models\n",
    "from experiments.plotting import plot_score_variable_y, plot_score_error_variable_y, load_checkpoint_wo_batch_stats\n",
    "\n",
    "import orbax.checkpoint\n",
    "from src.training import train_utils"
   ]
  },
  {
   "cell_type": "markdown",
   "source": [
    "Setup to load in checkpoint"
   ],
   "metadata": {
    "collapsed": false
   },
   "id": "686eba7e2e914bf1"
  },
  {
   "cell_type": "code",
   "execution_count": 2,
   "outputs": [
    {
     "ename": "KeyError",
     "evalue": "'params'",
     "output_type": "error",
     "traceback": [
      "\u001B[0;31m---------------------------------------------------------------------------\u001B[0m",
      "\u001B[0;31mKeyError\u001B[0m                                  Traceback (most recent call last)",
      "Cell \u001B[0;32mIn[2], line 7\u001B[0m\n\u001B[1;32m      4\u001B[0m max_val \u001B[38;5;241m=\u001B[39m \u001B[38;5;241m1.0\u001B[39m\n\u001B[1;32m      5\u001B[0m checkpoint_path \u001B[38;5;241m=\u001B[39m \u001B[38;5;124mf\u001B[39m\u001B[38;5;124m\"\u001B[39m\u001B[38;5;124m../../checkpoints/ou/varied_y_\u001B[39m\u001B[38;5;132;01m{\u001B[39;00my_min\u001B[38;5;132;01m}\u001B[39;00m\u001B[38;5;124m_to_\u001B[39m\u001B[38;5;132;01m{\u001B[39;00mmax_val\u001B[38;5;132;01m}\u001B[39;00m\u001B[38;5;124m\"\u001B[39m\n\u001B[0;32m----> 7\u001B[0m score, restored \u001B[38;5;241m=\u001B[39m \u001B[43mload_checkpoint_wo_batch_stats\u001B[49m\u001B[43m(\u001B[49m\u001B[43mcheckpoint_path\u001B[49m\u001B[43m)\u001B[49m\n\u001B[1;32m      8\u001B[0m model \u001B[38;5;241m=\u001B[39m src\u001B[38;5;241m.\u001B[39mmodels\u001B[38;5;241m.\u001B[39mscore_mlp\u001B[38;5;241m.\u001B[39mScoreMLP(\u001B[38;5;241m*\u001B[39m\u001B[38;5;241m*\u001B[39mrestored[\u001B[38;5;124m\"\u001B[39m\u001B[38;5;124mnetwork\u001B[39m\u001B[38;5;124m\"\u001B[39m])\n\u001B[1;32m      9\u001B[0m trained_score \u001B[38;5;241m=\u001B[39m train_utils\u001B[38;5;241m.\u001B[39mtrained_score_variable_y(model, restored[\u001B[38;5;124m\"\u001B[39m\u001B[38;5;124mparams\u001B[39m\u001B[38;5;124m\"\u001B[39m], {})\n",
      "File \u001B[0;32m~/Documents/Python/doobs-score-project/doobs_score_matching/experiments/plotting.py:14\u001B[0m, in \u001B[0;36mload_checkpoint_wo_batch_stats\u001B[0;34m(checkpoint_path)\u001B[0m\n\u001B[1;32m     12\u001B[0m restored \u001B[38;5;241m=\u001B[39m orbax_checkpointer\u001B[38;5;241m.\u001B[39mrestore(checkpoint_path)\n\u001B[1;32m     13\u001B[0m model \u001B[38;5;241m=\u001B[39m src\u001B[38;5;241m.\u001B[39mmodels\u001B[38;5;241m.\u001B[39mScoreMLP(\u001B[38;5;241m*\u001B[39m\u001B[38;5;241m*\u001B[39mrestored[\u001B[38;5;124m\"\u001B[39m\u001B[38;5;124mnetwork\u001B[39m\u001B[38;5;124m\"\u001B[39m])\n\u001B[0;32m---> 14\u001B[0m params \u001B[38;5;241m=\u001B[39m \u001B[43mrestored\u001B[49m\u001B[43m[\u001B[49m\u001B[38;5;124;43m\"\u001B[39;49m\u001B[38;5;124;43mparams\u001B[39;49m\u001B[38;5;124;43m\"\u001B[39;49m\u001B[43m]\u001B[49m\u001B[43m[\u001B[49m\u001B[38;5;124;43m\"\u001B[39;49m\u001B[38;5;124;43mparams\u001B[39;49m\u001B[38;5;124;43m\"\u001B[39;49m\u001B[43m]\u001B[49m\n\u001B[1;32m     15\u001B[0m batch_stats \u001B[38;5;241m=\u001B[39m {}\n\u001B[1;32m     16\u001B[0m trained_score \u001B[38;5;241m=\u001B[39m train_utils\u001B[38;5;241m.\u001B[39mtrained_score(model, params, batch_stats)\n",
      "\u001B[0;31mKeyError\u001B[0m: 'params'"
     ]
    }
   ],
   "source": [
    "orbax_checkpointer = orbax.checkpoint.PyTreeCheckpointer()\n",
    "\n",
    "y_min = -1.0\n",
    "max_val = 1.0\n",
    "checkpoint_path = f\"../../checkpoints/ou/varied_y_{y_min}_to_{max_val}\"\n",
    "\n",
    "score, restored = load_checkpoint_wo_batch_stats(checkpoint_path)\n",
    "model = src.models.score_mlp.ScoreMLP(**restored[\"network\"])\n",
    "trained_score = train_utils.trained_score_variable_y(model, restored[\"params\"], {})\n",
    "# restored = orbax_checkpointer.restore(checkpoint_path)\n",
    "# model = src.models.score_mlp.ScoreMLPDistributedEndpt(**restored[\"network\"])\n",
    "# params = restored[\"params\"]\n",
    "# \n",
    "# trained_score2 = train_utils.trained_score_variable_y(model, params)\n"
   ],
   "metadata": {
    "collapsed": false,
    "ExecuteTime": {
     "end_time": "2024-07-22T12:48:24.469395Z",
     "start_time": "2024-07-22T12:48:24.260283Z"
    }
   },
   "id": "974c319ce28b31bb"
  },
  {
   "cell_type": "code",
   "execution_count": null,
   "outputs": [],
   "source": [
    "from src.sdes import sde_ornstein_uhlenbeck\n",
    "from tueplots import bundles, axes, cycler, figsizes\n",
    "from tueplots.constants.color import palettes\n",
    "import matplotlib.pyplot as plt\n",
    "\n",
    "bundle = bundles.neurips2023()\n",
    "plt.rcParams.update(bundle)\n",
    "axes.lines()\n",
    "plt.rcParams.update(cycler.cycler(color=palettes.paultol_muted))\n",
    "\n",
    "true_score = sde_ornstein_uhlenbeck.score\n",
    "cmap = \"PuRd\""
   ],
   "metadata": {
    "collapsed": false,
    "ExecuteTime": {
     "start_time": "2024-07-22T12:48:24.469200Z"
    }
   },
   "id": "6eef61d7d9cb334b"
  },
  {
   "cell_type": "markdown",
   "source": [],
   "metadata": {
    "collapsed": false
   },
   "id": "f0fdbdfdc992f921"
  },
  {
   "cell_type": "code",
   "execution_count": null,
   "outputs": [],
   "source": [
    "# plt.rcParams.update(figsizes.neurips2023(nrows=2, ncols=3))\n",
    "# fig, axs = plot_score_variable_y(true_score, trained_score, -1, 1, -1, 1, cmap=cmap)\n",
    "# plt.savefig('ou_score_varied_y_-1.0_to_1.0.pdf')\n",
    "# plt.show()"
   ],
   "metadata": {
    "collapsed": false,
    "ExecuteTime": {
     "start_time": "2024-07-22T12:48:24.471139Z"
    }
   },
   "id": "cd13dcd9fc816ecd"
  },
  {
   "cell_type": "code",
   "execution_count": null,
   "outputs": [],
   "source": [
    "plt.rcParams.update(figsizes.neurips2023(nrows=1, ncols=3))\n",
    "fig, axs = plot_score_error_variable_y(true_score, score, -1, 1, -1, 1, cmap=cmap)\n",
    "plt.savefig('ou_score_varied_y_-1.0_to_1.0_error.pdf')\n",
    "plt.show()"
   ],
   "metadata": {
    "collapsed": false,
    "ExecuteTime": {
     "start_time": "2024-07-22T12:48:24.472788Z"
    }
   },
   "id": "3e3c34c1b48f27f2"
  },
  {
   "cell_type": "code",
   "execution_count": null,
   "outputs": [],
   "source": [
    "plt.rcParams.update(figsizes.neurips2023(nrows=1, ncols=3))\n",
    "fig, axs = plot_score_error_variable_y(true_score, trained_score2, -1, 1, -1, 1, cmap=cmap)\n",
    "plt.savefig('ou_score_varied_y_-1.0_to_1.0_error.pdf')\n",
    "plt.show()"
   ],
   "metadata": {
    "collapsed": false,
    "ExecuteTime": {
     "start_time": "2024-07-22T12:48:24.473816Z"
    }
   },
   "id": "c44dee130a4f147e"
  },
  {
   "cell_type": "code",
   "execution_count": null,
   "outputs": [],
   "source": [],
   "metadata": {
    "collapsed": false,
    "ExecuteTime": {
     "start_time": "2024-07-22T12:48:24.475229Z"
    }
   },
   "id": "b471272a6cc65e3c"
  }
 ],
 "metadata": {
  "kernelspec": {
   "display_name": "Python 3",
   "language": "python",
   "name": "python3"
  },
  "language_info": {
   "codemirror_mode": {
    "name": "ipython",
    "version": 2
   },
   "file_extension": ".py",
   "mimetype": "text/x-python",
   "name": "python",
   "nbconvert_exporter": "python",
   "pygments_lexer": "ipython2",
   "version": "2.7.6"
  }
 },
 "nbformat": 4,
 "nbformat_minor": 5
}
