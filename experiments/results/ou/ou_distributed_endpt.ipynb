{
 "cells": [
  {
   "cell_type": "code",
   "execution_count": 1,
   "id": "initial_id",
   "metadata": {
    "collapsed": true,
    "ExecuteTime": {
     "end_time": "2024-06-24T15:18:13.991533Z",
     "start_time": "2024-06-24T15:18:12.875894Z"
    }
   },
   "outputs": [],
   "source": [
    "import src.models\n",
    "from experiments.plotting import plot_score_variable_y, plot_score_error_variable_y, load_checkpoint_wo_batch_stats\n",
    "\n",
    "import orbax.checkpoint\n",
    "from src.training import train_utils"
   ]
  },
  {
   "cell_type": "markdown",
   "source": [
    "Setup to load in checkpoint"
   ],
   "metadata": {
    "collapsed": false
   },
   "id": "686eba7e2e914bf1"
  },
  {
   "cell_type": "code",
   "execution_count": 2,
   "outputs": [],
   "source": [
    "orbax_checkpointer = orbax.checkpoint.PyTreeCheckpointer()\n",
    "\n",
    "y_min = -1.0\n",
    "max_val = 1.0\n",
    "checkpoint_path = f\"../../checkpoints/ou/varied_y_{y_min}_to_{max_val}\"\n",
    "\n",
    "score, restored = load_checkpoint_wo_batch_stats(checkpoint_path)\n",
    "model = src.models.score_mlp.ScoreMLP(**restored[\"network\"])\n",
    "trained_score = train_utils.trained_score_variable_y(model, restored[\"params\"], {})\n",
    "# restored = orbax_checkpointer.restore(checkpoint_path)\n",
    "# model = src.models.score_mlp.ScoreMLPDistributedEndpt(**restored[\"network\"])\n",
    "# params = restored[\"params\"]\n",
    "# \n",
    "# trained_score2 = train_utils.trained_score_variable_y(model, params)\n"
   ],
   "metadata": {
    "collapsed": false,
    "ExecuteTime": {
     "end_time": "2024-06-24T15:18:14.011423Z",
     "start_time": "2024-06-24T15:18:13.992463Z"
    }
   },
   "id": "974c319ce28b31bb"
  },
  {
   "cell_type": "code",
   "execution_count": 3,
   "outputs": [],
   "source": [
    "from src.sdes import sde_ornstein_uhlenbeck\n",
    "from tueplots import bundles, axes, cycler, figsizes\n",
    "from tueplots.constants.color import palettes\n",
    "import matplotlib.pyplot as plt\n",
    "\n",
    "bundle = bundles.neurips2023()\n",
    "plt.rcParams.update(bundle)\n",
    "axes.lines()\n",
    "plt.rcParams.update(cycler.cycler(color=palettes.paultol_muted))\n",
    "\n",
    "true_score = sde_ornstein_uhlenbeck.score\n",
    "cmap = \"PuRd\""
   ],
   "metadata": {
    "collapsed": false,
    "ExecuteTime": {
     "end_time": "2024-06-24T15:18:14.168064Z",
     "start_time": "2024-06-24T15:18:14.012274Z"
    }
   },
   "id": "6eef61d7d9cb334b"
  },
  {
   "cell_type": "markdown",
   "source": [],
   "metadata": {
    "collapsed": false
   },
   "id": "f0fdbdfdc992f921"
  },
  {
   "cell_type": "code",
   "execution_count": 4,
   "outputs": [],
   "source": [
    "# plt.rcParams.update(figsizes.neurips2023(nrows=2, ncols=3))\n",
    "# fig, axs = plot_score_variable_y(true_score, trained_score, -1, 1, -1, 1, cmap=cmap)\n",
    "# plt.savefig('ou_score_varied_y_-1.0_to_1.0.pdf')\n",
    "# plt.show()"
   ],
   "metadata": {
    "collapsed": false,
    "ExecuteTime": {
     "end_time": "2024-06-24T15:18:14.171087Z",
     "start_time": "2024-06-24T15:18:14.168233Z"
    }
   },
   "id": "cd13dcd9fc816ecd"
  },
  {
   "cell_type": "code",
   "execution_count": 5,
   "outputs": [
    {
     "ename": "TypeError",
     "evalue": "score() takes 2 positional arguments but 3 were given",
     "output_type": "error",
     "traceback": [
      "\u001B[0;31m---------------------------------------------------------------------------\u001B[0m",
      "\u001B[0;31mTypeError\u001B[0m                                 Traceback (most recent call last)",
      "Cell \u001B[0;32mIn[5], line 2\u001B[0m\n\u001B[1;32m      1\u001B[0m plt\u001B[38;5;241m.\u001B[39mrcParams\u001B[38;5;241m.\u001B[39mupdate(figsizes\u001B[38;5;241m.\u001B[39mneurips2023(nrows\u001B[38;5;241m=\u001B[39m\u001B[38;5;241m1\u001B[39m, ncols\u001B[38;5;241m=\u001B[39m\u001B[38;5;241m3\u001B[39m))\n\u001B[0;32m----> 2\u001B[0m fig, axs \u001B[38;5;241m=\u001B[39m \u001B[43mplot_score_error_variable_y\u001B[49m\u001B[43m(\u001B[49m\u001B[43mtrue_score\u001B[49m\u001B[43m,\u001B[49m\u001B[43m \u001B[49m\u001B[43mscore\u001B[49m\u001B[43m,\u001B[49m\u001B[43m \u001B[49m\u001B[38;5;241;43m-\u001B[39;49m\u001B[38;5;241;43m1\u001B[39;49m\u001B[43m,\u001B[49m\u001B[43m \u001B[49m\u001B[38;5;241;43m1\u001B[39;49m\u001B[43m,\u001B[49m\u001B[43m \u001B[49m\u001B[38;5;241;43m-\u001B[39;49m\u001B[38;5;241;43m1\u001B[39;49m\u001B[43m,\u001B[49m\u001B[43m \u001B[49m\u001B[38;5;241;43m1\u001B[39;49m\u001B[43m,\u001B[49m\u001B[43m \u001B[49m\u001B[43mcmap\u001B[49m\u001B[38;5;241;43m=\u001B[39;49m\u001B[43mcmap\u001B[49m\u001B[43m)\u001B[49m\n\u001B[1;32m      3\u001B[0m plt\u001B[38;5;241m.\u001B[39msavefig(\u001B[38;5;124m'\u001B[39m\u001B[38;5;124mou_score_varied_y_-1.0_to_1.0_error.pdf\u001B[39m\u001B[38;5;124m'\u001B[39m)\n\u001B[1;32m      4\u001B[0m plt\u001B[38;5;241m.\u001B[39mshow()\n",
      "File \u001B[0;32m~/Documents/Python/doobs-score-project/doobs_score_matching/experiments/plotting.py:73\u001B[0m, in \u001B[0;36mplot_score_error_variable_y\u001B[0;34m(true_score, learned_score, x_min, x_max, y_min, y_max, cmap)\u001B[0m\n\u001B[1;32m     69\u001B[0m \u001B[38;5;28;01mfor\u001B[39;00m col, ts \u001B[38;5;129;01min\u001B[39;00m \u001B[38;5;28menumerate\u001B[39m(t):\n\u001B[1;32m     70\u001B[0m     vectorised_learnt_score \u001B[38;5;241m=\u001B[39m jax\u001B[38;5;241m.\u001B[39mvmap(\n\u001B[1;32m     71\u001B[0m         jax\u001B[38;5;241m.\u001B[39mvmap(learned_score, in_axes\u001B[38;5;241m=\u001B[39m(\u001B[38;5;28;01mNone\u001B[39;00m, \u001B[38;5;241m0\u001B[39m, \u001B[38;5;241m0\u001B[39m)), in_axes\u001B[38;5;241m=\u001B[39m(\u001B[38;5;28;01mNone\u001B[39;00m, \u001B[38;5;241m0\u001B[39m, \u001B[38;5;241m0\u001B[39m)\n\u001B[1;32m     72\u001B[0m     )\n\u001B[0;32m---> 73\u001B[0m     score_pred \u001B[38;5;241m=\u001B[39m \u001B[43mvectorised_learnt_score\u001B[49m\u001B[43m(\u001B[49m\u001B[43mts\u001B[49m\u001B[43m,\u001B[49m\u001B[43m \u001B[49m\u001B[43mx\u001B[49m\u001B[43m,\u001B[49m\u001B[43m \u001B[49m\u001B[43my\u001B[49m\u001B[43m)\u001B[49m\n\u001B[1;32m     74\u001B[0m     vectorised_score \u001B[38;5;241m=\u001B[39m jax\u001B[38;5;241m.\u001B[39mvmap(\n\u001B[1;32m     75\u001B[0m         jax\u001B[38;5;241m.\u001B[39mvmap(true_score, in_axes\u001B[38;5;241m=\u001B[39m(\u001B[38;5;28;01mNone\u001B[39;00m, \u001B[38;5;241m0\u001B[39m, \u001B[38;5;28;01mNone\u001B[39;00m, \u001B[38;5;241m0\u001B[39m)), in_axes\u001B[38;5;241m=\u001B[39m(\u001B[38;5;28;01mNone\u001B[39;00m, \u001B[38;5;241m0\u001B[39m, \u001B[38;5;28;01mNone\u001B[39;00m, \u001B[38;5;241m0\u001B[39m)\n\u001B[1;32m     76\u001B[0m     )\n\u001B[1;32m     77\u001B[0m     score_true \u001B[38;5;241m=\u001B[39m vectorised_score(ts, x\u001B[38;5;241m.\u001B[39msqueeze(), \u001B[38;5;241m1.0\u001B[39m, y\u001B[38;5;241m.\u001B[39msqueeze())\n",
      "    \u001B[0;31m[... skipping hidden 16 frame]\u001B[0m\n",
      "File \u001B[0;32m~/Documents/Python/doobs-score-project/score_env/lib/python3.9/site-packages/jax/_src/linear_util.py:192\u001B[0m, in \u001B[0;36mWrappedFun.call_wrapped\u001B[0;34m(self, *args, **kwargs)\u001B[0m\n\u001B[1;32m    189\u001B[0m gen \u001B[38;5;241m=\u001B[39m gen_static_args \u001B[38;5;241m=\u001B[39m out_store \u001B[38;5;241m=\u001B[39m \u001B[38;5;28;01mNone\u001B[39;00m\n\u001B[1;32m    191\u001B[0m \u001B[38;5;28;01mtry\u001B[39;00m:\n\u001B[0;32m--> 192\u001B[0m   ans \u001B[38;5;241m=\u001B[39m \u001B[38;5;28;43mself\u001B[39;49m\u001B[38;5;241;43m.\u001B[39;49m\u001B[43mf\u001B[49m\u001B[43m(\u001B[49m\u001B[38;5;241;43m*\u001B[39;49m\u001B[43margs\u001B[49m\u001B[43m,\u001B[49m\u001B[43m \u001B[49m\u001B[38;5;241;43m*\u001B[39;49m\u001B[38;5;241;43m*\u001B[39;49m\u001B[38;5;28;43mdict\u001B[39;49m\u001B[43m(\u001B[49m\u001B[38;5;28;43mself\u001B[39;49m\u001B[38;5;241;43m.\u001B[39;49m\u001B[43mparams\u001B[49m\u001B[43m,\u001B[49m\u001B[43m \u001B[49m\u001B[38;5;241;43m*\u001B[39;49m\u001B[38;5;241;43m*\u001B[39;49m\u001B[43mkwargs\u001B[49m\u001B[43m)\u001B[49m\u001B[43m)\u001B[49m\n\u001B[1;32m    193\u001B[0m \u001B[38;5;28;01mexcept\u001B[39;00m:\n\u001B[1;32m    194\u001B[0m   \u001B[38;5;66;03m# Some transformations yield from inside context managers, so we have to\u001B[39;00m\n\u001B[1;32m    195\u001B[0m   \u001B[38;5;66;03m# interrupt them before reraising the exception. Otherwise they will only\u001B[39;00m\n\u001B[1;32m    196\u001B[0m   \u001B[38;5;66;03m# get garbage-collected at some later time, running their cleanup tasks\u001B[39;00m\n\u001B[1;32m    197\u001B[0m   \u001B[38;5;66;03m# only after this exception is handled, which can corrupt the global\u001B[39;00m\n\u001B[1;32m    198\u001B[0m   \u001B[38;5;66;03m# state.\u001B[39;00m\n\u001B[1;32m    199\u001B[0m   \u001B[38;5;28;01mwhile\u001B[39;00m stack:\n",
      "\u001B[0;31mTypeError\u001B[0m: score() takes 2 positional arguments but 3 were given"
     ]
    },
    {
     "data": {
      "text/plain": "<Figure size 550x113.306 with 3 Axes>",
      "image/png": "[encoded data removed]"
     },
     "metadata": {},
     "output_type": "display_data"
    }
   ],
   "source": [
    "plt.rcParams.update(figsizes.neurips2023(nrows=1, ncols=3))\n",
    "fig, axs = plot_score_error_variable_y(true_score, score, -1, 1, -1, 1, cmap=cmap)\n",
    "plt.savefig('ou_score_varied_y_-1.0_to_1.0_error.pdf')\n",
    "plt.show()"
   ],
   "metadata": {
    "collapsed": false,
    "ExecuteTime": {
     "end_time": "2024-06-24T15:18:15.330846Z",
     "start_time": "2024-06-24T15:18:14.176461Z"
    }
   },
   "id": "3e3c34c1b48f27f2"
  },
  {
   "cell_type": "code",
   "execution_count": null,
   "outputs": [],
   "source": [
    "plt.rcParams.update(figsizes.neurips2023(nrows=1, ncols=3))\n",
    "fig, axs = plot_score_error_variable_y(true_score, trained_score2, -1, 1, -1, 1, cmap=cmap)\n",
    "plt.savefig('ou_score_varied_y_-1.0_to_1.0_error.pdf')\n",
    "plt.show()"
   ],
   "metadata": {
    "collapsed": false,
    "ExecuteTime": {
     "start_time": "2024-06-24T15:18:15.329892Z"
    }
   },
   "id": "c44dee130a4f147e"
  },
  {
   "cell_type": "code",
   "execution_count": null,
   "outputs": [],
   "source": [],
   "metadata": {
    "collapsed": false,
    "ExecuteTime": {
     "start_time": "2024-06-24T15:18:15.332005Z"
    }
   },
   "id": "b471272a6cc65e3c"
  }
 ],
 "metadata": {
  "kernelspec": {
   "display_name": "Python 3",
   "language": "python",
   "name": "python3"
  },
  "language_info": {
   "codemirror_mode": {
    "name": "ipython",
    "version": 2
   },
   "file_extension": ".py",
   "mimetype": "text/x-python",
   "name": "python",
   "nbconvert_exporter": "python",
   "pygments_lexer": "ipython2",
   "version": "2.7.6"
  }
 },
 "nbformat": 4,
 "nbformat_minor": 5
}
