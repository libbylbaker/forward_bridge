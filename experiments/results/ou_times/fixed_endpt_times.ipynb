{
 "cells": [
  {
   "cell_type": "code",
   "execution_count": 1,
   "id": "initial_id",
   "metadata": {
    "collapsed": true,
    "ExecuteTime": {
     "end_time": "2024-04-28T14:14:17.926472Z",
     "start_time": "2024-04-28T14:14:16.581117Z"
    }
   },
   "outputs": [],
   "source": [
    "import jax.numpy as jnp\n",
    "import jax\n",
    "import numpy as np\n",
    "\n",
    "import src.models\n",
    "import orbax.checkpoint\n",
    "from src.training import utils"
   ]
  },
  {
   "cell_type": "code",
   "execution_count": 2,
   "outputs": [
    {
     "name": "stdout",
     "output_type": "stream",
     "text": [
      "Training\n"
     ]
    },
    {
     "name": "stderr",
     "output_type": "stream",
     "text": [
      "WARNING:absl:SaveArgs.aggregate is deprecated, please use custom TypeHandler (https://orbax.readthedocs.io/en/latest/custom_handlers.html#typehandler) or contact Orbax team to migrate before May 1st, 2024. If your Pytree has empty ([], {}, None) values then use PyTreeCheckpointHandler(..., write_tree_metadata=True, ...) or use StandardCheckpointHandler to avoid TypeHandler Registry error. Please note that PyTreeCheckpointHandler.write_tree_metadata default value is already set to True.\n"
     ]
    },
    {
     "name": "stdout",
     "output_type": "stream",
     "text": [
      "Epoch: 0, Loss: 19642228.0\n",
      "Epoch: 1, Loss: 405396.09375\n",
      "Epoch: 2, Loss: 30903.921875\n",
      "Epoch: 3, Loss: 8939.4208984375\n",
      "Epoch: 4, Loss: 1527.8187255859375\n",
      "Epoch: 5, Loss: 656.5147705078125\n",
      "Epoch: 6, Loss: 307.2508544921875\n",
      "Epoch: 7, Loss: 76.50212097167969\n",
      "Epoch: 8, Loss: 34.121734619140625\n",
      "Epoch: 9, Loss: 13.165739059448242\n",
      "Epoch: 10, Loss: 5.441088676452637\n",
      "Epoch: 11, Loss: 2.419743299484253\n",
      "Epoch: 12, Loss: 1.453304409980774\n",
      "Epoch: 13, Loss: 0.9864609837532043\n",
      "Epoch: 14, Loss: 0.90980064868927\n",
      "Epoch: 15, Loss: 0.8178544044494629\n",
      "Epoch: 16, Loss: 0.8060232400894165\n",
      "Epoch: 17, Loss: 0.7983993887901306\n",
      "Epoch: 18, Loss: 0.7919517755508423\n",
      "Epoch: 19, Loss: 0.790876030921936\n",
      "Epoch: 20, Loss: 0.7883174419403076\n"
     ]
    },
    {
     "ename": "KeyboardInterrupt",
     "evalue": "",
     "output_type": "error",
     "traceback": [
      "\u001B[0;31m---------------------------------------------------------------------------\u001B[0m",
      "\u001B[0;31mKeyboardInterrupt\u001B[0m                         Traceback (most recent call last)",
      "Cell \u001B[0;32mIn[2], line 6\u001B[0m\n\u001B[1;32m      4\u001B[0m key \u001B[38;5;241m=\u001B[39m jax\u001B[38;5;241m.\u001B[39mrandom\u001B[38;5;241m.\u001B[39mPRNGKey(\u001B[38;5;241m1\u001B[39m)\n\u001B[1;32m      5\u001B[0m \u001B[38;5;28;01mfor\u001B[39;00m time \u001B[38;5;129;01min\u001B[39;00m times:\n\u001B[0;32m----> 6\u001B[0m     \u001B[43mtrain_score_fixed_endpt\u001B[49m\u001B[38;5;241;43m.\u001B[39;49m\u001B[43mmain\u001B[49m\u001B[43m(\u001B[49m\u001B[43mkey\u001B[49m\u001B[43m,\u001B[49m\u001B[43m \u001B[49m\u001B[43mT\u001B[49m\u001B[38;5;241;43m=\u001B[39;49m\u001B[43mtime\u001B[49m\u001B[43m)\u001B[49m\n",
      "File \u001B[0;32m~/Documents/Python/doobs-score-project/doobs_score_matching/experiments/ou/train_score_fixed_endpt.py:106\u001B[0m, in \u001B[0;36mmain\u001B[0;34m(key, n, T)\u001B[0m\n\u001B[1;32m    102\u001B[0m total_loss \u001B[38;5;241m=\u001B[39m \u001B[38;5;241m0\u001B[39m\n\u001B[1;32m    103\u001B[0m \u001B[38;5;28;01mfor\u001B[39;00m batch, (ts, reverse, correction) \u001B[38;5;129;01min\u001B[39;00m \u001B[38;5;28mzip\u001B[39m(\n\u001B[1;32m    104\u001B[0m     \u001B[38;5;28mrange\u001B[39m(batches_per_epoch), infinite_dataloader\n\u001B[1;32m    105\u001B[0m ):\n\u001B[0;32m--> 106\u001B[0m     params, opt_state, _loss \u001B[38;5;241m=\u001B[39m \u001B[43mtrain_step\u001B[49m\u001B[43m(\u001B[49m\u001B[43mparams\u001B[49m\u001B[43m,\u001B[49m\u001B[43m \u001B[49m\u001B[43mopt_state\u001B[49m\u001B[43m,\u001B[49m\u001B[43m \u001B[49m\u001B[43mts\u001B[49m\u001B[43m,\u001B[49m\u001B[43m \u001B[49m\u001B[43mreverse\u001B[49m\u001B[43m,\u001B[49m\u001B[43m \u001B[49m\u001B[43mcorrection\u001B[49m\u001B[43m)\u001B[49m\n\u001B[1;32m    107\u001B[0m     total_loss \u001B[38;5;241m=\u001B[39m total_loss \u001B[38;5;241m+\u001B[39m _loss\n\u001B[1;32m    108\u001B[0m epoch_loss \u001B[38;5;241m=\u001B[39m total_loss \u001B[38;5;241m/\u001B[39m batches_per_epoch\n",
      "File \u001B[0;32m<string>:1\u001B[0m, in \u001B[0;36m<lambda>\u001B[0;34m(_cls, count, mu, nu)\u001B[0m\n",
      "\u001B[0;31mKeyboardInterrupt\u001B[0m: "
     ]
    }
   ],
   "source": [
    "# from experiments.ou import train_score_fixed_endpt\n",
    "# \n",
    "# times = np.arange(12, 16)\n",
    "# key = jax.random.PRNGKey(1)\n",
    "# for time in times:\n",
    "#     train_score_fixed_endpt.main(key, T=time)"
   ],
   "metadata": {
    "collapsed": false,
    "ExecuteTime": {
     "end_time": "2024-04-28T14:14:23.585499Z",
     "start_time": "2024-04-28T14:14:17.926641Z"
    }
   },
   "id": "2639efab5768b5d3"
  },
  {
   "cell_type": "markdown",
   "source": [
    "Setup to load in checkpoint"
   ],
   "metadata": {
    "collapsed": false
   },
   "id": "686eba7e2e914bf1"
  },
  {
   "cell_type": "code",
   "execution_count": 3,
   "outputs": [],
   "source": [
    "orbax_checkpointer = orbax.checkpoint.PyTreeCheckpointer()\n",
    "\n",
    "N = 100\n",
    "\n",
    "def get_score(time):\n",
    "    checkpoint_path = f\"/Users/libbybaker/Documents/Python/doobs-score-project/doobs_score_matching/checkpoints/ou/reverse/fixed_y_1_T_{time}\"\n",
    "    restored = orbax_checkpointer.restore(checkpoint_path)\n",
    "    model = src.models.score_mlp.ScoreMLP(**restored[\"network\"])\n",
    "    params = restored[\"params\"]\n",
    "    trained_score = utils.trained_score(model, params)\n",
    "    sde = restored[\"sde\"]\n",
    "    return trained_score, sde\n"
   ],
   "metadata": {
    "collapsed": false,
    "ExecuteTime": {
     "end_time": "2024-04-28T14:14:41.005785Z",
     "start_time": "2024-04-28T14:14:40.992366Z"
    }
   },
   "id": "974c319ce28b31bb"
  },
  {
   "cell_type": "markdown",
   "source": [
    "Find errors for different d and T"
   ],
   "metadata": {
    "collapsed": false
   },
   "id": "7ca4f241e31ef929"
  },
  {
   "cell_type": "code",
   "execution_count": 4,
   "outputs": [],
   "source": [
    "def error(ts, true_score, trained_score, sde, x0):\n",
    "    \"\"\"mean squared error between true and trained score\"\"\"\n",
    "    true = jax.vmap(true_score, in_axes=(0, None, None, None))(ts, x0, sde[\"T\"], sde[\"y\"])\n",
    "    trained = jax.vmap(trained_score, in_axes=(0, None))(ts, x0)\n",
    "    return jnp.mean((true - trained) ** 2)\n",
    "\n",
    "def error_forward(ts, true_score, trained_score, sde, y):\n",
    "    \"\"\"mean squared error between true and trained score\"\"\"\n",
    "    true = jax.vmap(true_score, in_axes=(None, None, 0, None))(0, sde[\"x0\"], ts, y)\n",
    "    trained = jax.vmap(trained_score, in_axes=(0, None))(ts, y)\n",
    "    return jnp.mean((true - trained) ** 2)"
   ],
   "metadata": {
    "collapsed": false,
    "ExecuteTime": {
     "end_time": "2024-04-28T14:14:44.899692Z",
     "start_time": "2024-04-28T14:14:44.894984Z"
    }
   },
   "id": "8fc007321cb2d406"
  },
  {
   "cell_type": "code",
   "execution_count": 5,
   "outputs": [],
   "source": [
    "from src.data_generate_sde import sde_ornstein_uhlenbeck, time\n",
    "errors = []\n",
    "times = np.arange(1, 16)\n",
    "true_score = sde_ornstein_uhlenbeck.score\n",
    "for T in times:\n",
    "    ts = time.grid(0, T, 100)\n",
    "    trained_score_, sde_ = get_score(T)\n",
    "    error_d_ = error(ts[:-1], true_score, trained_score_, sde_, sde_[\"x0\"])\n",
    "    errors.append(error_d_)\n",
    "np.save(\"ou_errors_reverse_times_1_to_15.npy\", errors)\n",
    "\n",
    "# forward_errors = []\n",
    "# true_score_forward = sde_ornstein_uhlenbeck.score_forward\n",
    "# for d in ds:\n",
    "#     trained_score_, sde_ = get_score_forward(d)\n",
    "#     error_d_ = error_forward(ts[1:], true_score_forward, trained_score_, sde_, sde_[\"y\"])\n",
    "#     forward_errors.append(error_d_)   \n",
    "# np.save(\"ou_errors_forward_dim_1_to_32.npy\", forward_errors)"
   ],
   "metadata": {
    "collapsed": false,
    "ExecuteTime": {
     "end_time": "2024-04-28T14:14:47.255331Z",
     "start_time": "2024-04-28T14:14:45.590238Z"
    }
   },
   "id": "493cbb47cd41fdb2"
  },
  {
   "cell_type": "code",
   "execution_count": 6,
   "outputs": [],
   "source": [
    "from tueplots import bundles, axes, cycler\n",
    "from tueplots.constants.color import palettes\n",
    "import matplotlib.pyplot as plt\n",
    "\n",
    "bundle = bundles.neurips2023()\n",
    "plt.rcParams.update(bundle)\n",
    "axes.lines()\n",
    "plt.rcParams.update(cycler.cycler(color=palettes.paultol_muted))\n",
    "\n",
    "\n"
   ],
   "metadata": {
    "collapsed": false,
    "ExecuteTime": {
     "end_time": "2024-04-28T14:14:47.262951Z",
     "start_time": "2024-04-28T14:14:47.256017Z"
    }
   },
   "id": "6eef61d7d9cb334b"
  },
  {
   "cell_type": "markdown",
   "source": [
    "Error plots for different d"
   ],
   "metadata": {
    "collapsed": false
   },
   "id": "76319d18d0f2916c"
  },
  {
   "cell_type": "code",
   "execution_count": 7,
   "outputs": [
    {
     "data": {
      "text/plain": "<Figure size 550x339.919 with 1 Axes>",
      "image/png": "[encoded data removed]"
     },
     "metadata": {},
     "output_type": "display_data"
    }
   ],
   "source": [
    "\n",
    "times = np.arange(1, 16)\n",
    "\n",
    "errors = np.load(\"ou_errors_reverse_times_1_to_15.npy\")    \n",
    "\n",
    "errors_diffusion_bridge = np.load(\"/Users/libbybaker/Documents/Python/DiffusionBridge/diffusion_bridge_errors_forward_times_1_to_15.npy\")\n",
    "errors_diffusion_bridge_reverse = np.load(\"/Users/libbybaker/Documents/Python/DiffusionBridge/diffusion_bridge_errors_backward_times_1_to_15.npy\")\n",
    "\n",
    "plt.semilogy(times, errors, \"o-\", label=\"Our method\", markersize=5)\n",
    "plt.semilogy(times, errors_diffusion_bridge, \"o-\", label=\"DiffusionBridge (forward)\", markersize=5)\n",
    "plt.semilogy(times, errors_diffusion_bridge_reverse, \"o-\", label=\"DiffusionBridge (reverse)\", markersize=5)\n",
    "# plt.semilogx(ds, forward_errors, \"o-\", label=\"Forward\")\n",
    "plt.legend()\n",
    "# plt.xticks(ds, ds)\n",
    "plt.xlabel(r\"End time $T$\")\n",
    "plt.ylabel(\"Mean Squared Error\")\n",
    "# plt.ylim((-1, 5))\n",
    "plt.savefig(\"time_comparison.pdf\")\n",
    "plt.show()\n"
   ],
   "metadata": {
    "collapsed": false,
    "ExecuteTime": {
     "end_time": "2024-04-28T14:14:49.837199Z",
     "start_time": "2024-04-28T14:14:49.031277Z"
    }
   },
   "id": "ade7aed9d3958fcb"
  },
  {
   "cell_type": "code",
   "execution_count": 8,
   "outputs": [],
   "source": [
    "from tueplots import bundles, axes, cycler, figsizes\n",
    "from tueplots.constants.color import palettes\n",
    "import matplotlib.pyplot as plt\n",
    "\n",
    "bundle = bundles.neurips2023()\n",
    "plt.rcParams.update(bundle)\n",
    "axes.lines()\n",
    "plt.rcParams.update(cycler.cycler(color=palettes.paultol_muted))\n",
    "\n"
   ],
   "metadata": {
    "collapsed": false,
    "ExecuteTime": {
     "end_time": "2024-04-28T14:14:52.144892Z",
     "start_time": "2024-04-28T14:14:52.140715Z"
    }
   },
   "id": "3528349e02109a99"
  },
  {
   "cell_type": "markdown",
   "source": [
    "Create Subplots for both time and dimension"
   ],
   "metadata": {
    "collapsed": false
   },
   "id": "c338b9ea403a1e14"
  },
  {
   "cell_type": "code",
   "execution_count": 9,
   "outputs": [],
   "source": [
    "times = np.arange(1, 16)\n",
    "\n",
    "errors_t = np.load(\"ou_errors_reverse_times_1_to_15.npy\")    \n",
    "errors_t_diffusion_bridge = np.load(\"/Users/libbybaker/Documents/Python/DiffusionBridge/diffusion_bridge_errors_forward_times_1_to_15.npy\")\n",
    "errors_t_diffusion_bridge_reverse = np.load(\"/Users/libbybaker/Documents/Python/DiffusionBridge/diffusion_bridge_errors_backward_times_1_to_15.npy\")\n"
   ],
   "metadata": {
    "collapsed": false,
    "ExecuteTime": {
     "end_time": "2024-04-28T14:14:54.019595Z",
     "start_time": "2024-04-28T14:14:54.013887Z"
    }
   },
   "id": "5c741a21d99c1a2"
  },
  {
   "cell_type": "code",
   "execution_count": 12,
   "outputs": [],
   "source": [
    "\n",
    "from src.data_generate_sde import sde_ornstein_uhlenbeck, time\n",
    "\n",
    "ds = np.arange(1, 33)\n",
    "ts = time.grid(0, 1., 100)\n",
    "\n",
    "errors_d = np.load(\"dimensions/ou_errors_reverse_dim_1_to_32.npy\")    \n",
    "errors_d_diffusion_bridge = np.load(\"/Users/libbybaker/Documents/Python/DiffusionBridge/dims/diffusion_bridge_errors_forward_dims_1_to_32.npy\")\n",
    "errors_d_diffusion_bridge_reverse = np.load(\"/Users/libbybaker/Documents/Python/DiffusionBridge/dims/diffusion_bridge_errors_backward_dims_1_to_16.npy\")\n"
   ],
   "metadata": {
    "collapsed": false,
    "ExecuteTime": {
     "end_time": "2024-04-28T14:16:14.055182Z",
     "start_time": "2024-04-28T14:16:14.042553Z"
    }
   },
   "id": "cd13dcd9fc816ecd"
  },
  {
   "cell_type": "code",
   "execution_count": 19,
   "outputs": [
    {
     "data": {
      "text/plain": "<Figure size 550x169.959 with 2 Axes>",
      "image/png": "[encoded data removed]"
     },
     "metadata": {},
     "output_type": "display_data"
    }
   ],
   "source": [
    "plt.rcParams.update(figsizes.neurips2023(nrows=1, ncols=2))\n",
    "fig, axs = plt.subplots(nrows=1, ncols=2, sharey=False, sharex=False)\n",
    "\n",
    "axs[0].semilogy(times, errors_t, \"o-\", label=\"Ours\", markersize=3)\n",
    "axs[0].semilogy(times, errors_t_diffusion_bridge, \"o-\", label=\"DB (forward)\", markersize=3)\n",
    "axs[0].semilogy(times, errors_t_diffusion_bridge_reverse, \"o-\", label=\"DB (reverse)\", markersize=3)\n",
    "axs[0].set_xlabel(r\"End time $T$\")\n",
    "axs[0].set_ylabel(\"Mean Squared Error\")\n",
    "\n",
    "axs[1].semilogy(ds, errors_d, \"o-\", label=\"Ours\", markersize=3)\n",
    "axs[1].semilogy(ds, errors_d_diffusion_bridge, \"o-\", label=\"DB (forward)\", markersize=3)\n",
    "axs[1].semilogy(ds[:16], errors_d_diffusion_bridge_reverse, \"o-\", label=\"DB (reverse)\", markersize=3)\n",
    "axs[1].set_xlabel(\"Dimension\")\n",
    "axs[1].legend()\n",
    "\n",
    "plt.savefig(\"time_and_dims_errors.pdf\")\n"
   ],
   "metadata": {
    "collapsed": false,
    "ExecuteTime": {
     "end_time": "2024-04-28T14:30:46.332774Z",
     "start_time": "2024-04-28T14:30:45.582172Z"
    }
   },
   "id": "3e3c34c1b48f27f2"
  },
  {
   "cell_type": "markdown",
   "source": [],
   "metadata": {
    "collapsed": false
   },
   "id": "8d004a4509c54603"
  },
  {
   "cell_type": "code",
   "execution_count": null,
   "outputs": [],
   "source": [],
   "metadata": {
    "collapsed": false,
    "ExecuteTime": {
     "start_time": "2024-04-28T14:14:23.599298Z"
    }
   },
   "id": "85e87aea0d94bc85"
  },
  {
   "cell_type": "code",
   "execution_count": null,
   "outputs": [],
   "source": [],
   "metadata": {
    "collapsed": false,
    "ExecuteTime": {
     "start_time": "2024-04-28T14:14:23.600164Z"
    }
   },
   "id": "1dd07e597e2f5f99"
  },
  {
   "cell_type": "code",
   "execution_count": null,
   "outputs": [],
   "source": [],
   "metadata": {
    "collapsed": false,
    "ExecuteTime": {
     "start_time": "2024-04-28T14:14:23.601292Z"
    }
   },
   "id": "874fcbc2ab14bb6c"
  },
  {
   "cell_type": "code",
   "execution_count": null,
   "outputs": [],
   "source": [],
   "metadata": {
    "collapsed": false,
    "ExecuteTime": {
     "start_time": "2024-04-28T14:14:23.602258Z"
    }
   },
   "id": "3a119e12f75869e6"
  }
 ],
 "metadata": {
  "kernelspec": {
   "display_name": "Python 3",
   "language": "python",
   "name": "python3"
  },
  "language_info": {
   "codemirror_mode": {
    "name": "ipython",
    "version": 2
   },
   "file_extension": ".py",
   "mimetype": "text/x-python",
   "name": "python",
   "nbconvert_exporter": "python",
   "pygments_lexer": "ipython2",
   "version": "2.7.6"
  }
 },
 "nbformat": 4,
 "nbformat_minor": 5
}
