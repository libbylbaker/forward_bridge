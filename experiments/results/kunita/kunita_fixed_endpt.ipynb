{
 "cells": [
  {
   "cell_type": "code",
   "execution_count": null,
   "id": "initial_id",
   "metadata": {
    "collapsed": true
   },
   "outputs": [],
   "source": [
    "import jax.numpy as jnp\n",
    "import jax\n",
    "import matplotlib.pyplot as plt\n",
    "\n",
    "from src.sdes import sde_utils, time, sde_kunita\n",
    "from src import data_boundary_pts\n",
    "\n",
    "from experiments.plotting import load_checkpoint_w_batch_stats, load_checkpoint_wo_batch_stats, checkpoint_unet"
   ]
  },
  {
   "cell_type": "markdown",
   "source": [
    "Setup to load in checkpoint"
   ],
   "metadata": {
    "collapsed": false
   },
   "id": "686eba7e2e914bf1"
  },
  {
   "cell_type": "code",
   "execution_count": null,
   "outputs": [],
   "source": [
    "T = 1.0\n",
    "N = 100"
   ],
   "metadata": {
    "collapsed": false
   },
   "id": "974c319ce28b31bb"
  },
  {
   "cell_type": "code",
   "execution_count": null,
   "outputs": [],
   "source": [
    "num_landmarks = 200\n",
    "\n",
    "# checkpoint_path_corr = f\"../../checkpoints/kunita/circ_r1_lms_{num_landmarks}_corr\"\n",
    "checkpoint_path = f\"../../checkpoints/kunita/circ_r1_lms_{num_landmarks}\"\n",
    "# checkpoint_path = f\"../../checkpoints/kunita/fixed_x0_lms_5\"\n",
    "trained_score, restored = checkpoint_unet(checkpoint_path)\n",
    "# trained_score_corr, restored_corr = checkpoint_unet(checkpoint_path_corr)\n",
    "print(restored['train_time'])"
   ],
   "metadata": {
    "collapsed": false
   },
   "id": "a605ab4a06ec59f9"
  },
  {
   "cell_type": "code",
   "execution_count": null,
   "outputs": [],
   "source": [
    "keys = jax.random.split(jax.random.PRNGKey(0), 10)\n",
    "ts = time.grid(0, T, N)\n",
    "\n",
    "# def sample_circle(num_landmarks: int, radius=1.0, centre=jnp.asarray([0, 0])) -> jnp.ndarray:\n",
    "#     theta = jnp.linspace(0, 2 * jnp.pi, num_landmarks, endpoint=False)\n",
    "#     x = jnp.cos(theta)\n",
    "#     y = jnp.sin(theta)\n",
    "#     return (radius * jnp.stack([x, y], axis=1) + centre).flatten()\n",
    "\n",
    "# x0 = sample_circle(num_landmarks, 1.2)\n",
    "\n",
    "target = restored['sde']['y']\n",
    "target = target.reshape(-1, 2)\n",
    "\n",
    "x0 = data_boundary_pts.sample_circle(num_landmarks, 0.5)\n",
    "\n",
    "drift, diffusion = sde_kunita.vector_fields()\n",
    "bm_shape = (sde_kunita.GRID_SIZE**2 * 2,)\n",
    "\n",
    "conditioned_trajs = jax.vmap(sde_utils.conditioned, (0, None, None, None, None, None, None))(keys, ts, x0, trained_score, drift, diffusion, bm_shape)\n",
    "\n",
    "# conditioned_trajs_corr = jax.vmap(sde_utils.conditioned, (0, None, None, None, None, None, None))(keys, ts, x0, trained_score_corr, drift, diffusion, bm_shape)\n",
    "\n",
    "forward_trajs = jax.vmap(sde_utils.solution, (0, None, None, None, None, None))(keys, ts, x0, drift, diffusion, bm_shape)\n",
    "\n",
    "\n",
    "# conditioned_traj = sde_utils.conditioned(key, ts, x0, trained_score, drift, diffusion, bm_shape)\n",
    "# forward_traj = sde_utils.solution(key, ts, x0, drift, diffusion, bm_shape)"
   ],
   "metadata": {
    "collapsed": false
   },
   "id": "3e3c34c1b48f27f2"
  },
  {
   "cell_type": "code",
   "execution_count": null,
   "outputs": [],
   "source": [
    "traj = 1\n",
    "conditioned_traj = conditioned_trajs[traj].reshape(-1, num_landmarks, 2)\n",
    "\n",
    "for landmark in range(conditioned_traj.shape[1]):\n",
    "    # plt.plot(conditioned_traj[:, landmark, 0], conditioned_traj[:, landmark, 1])\n",
    "    plt.scatter(conditioned_traj[0, landmark, 0], conditioned_traj[0, landmark, 1], c='red')\n",
    "    plt.scatter(conditioned_traj[-1, landmark, 0], conditioned_traj[-1, landmark, 1], c='green')\n",
    "    plt.scatter(target[landmark, 0], target[landmark, 1], c='blue')\n",
    "plt.show()\n",
    "\n",
    "# conditioned_traj_corr = conditioned_trajs_corr[traj].reshape(-1, num_landmarks, 2)\n",
    "\n",
    "# for landmark in range(conditioned_traj_corr.shape[1]):\n",
    "#     plt.plot(conditioned_traj_corr[:, landmark, 0], conditioned_traj_corr[:, landmark, 1])\n",
    "#     plt.scatter(conditioned_traj_corr[0, landmark, 0], conditioned_traj_corr[0, landmark, 1], c='red')\n",
    "#     plt.scatter(conditioned_traj_corr[-1, landmark, 0], conditioned_traj_corr[-1, landmark, 1], c='green')\n",
    "#     plt.scatter(target[landmark, 0], target[landmark, 1], c='blue')\n",
    "# plt.show()\n",
    "\n",
    "forward_traj = forward_trajs[traj].reshape(-1, num_landmarks, 2)\n",
    "\n",
    "for landmark in range(forward_traj.shape[1]):\n",
    "    plt.plot(forward_traj[:, landmark, 0], forward_traj[:, landmark, 1])\n",
    "    plt.scatter(forward_traj[0, landmark, 0], forward_traj[0, landmark, 1], c='red')\n",
    "    plt.scatter(forward_traj[-1, landmark, 0], forward_traj[-1, landmark, 1], c='green')\n",
    "plt.show()"
   ],
   "metadata": {
    "collapsed": false
   },
   "id": "b7a3b836ad3d7432"
  },
  {
   "cell_type": "code",
   "execution_count": null,
   "outputs": [],
   "source": [
    "target_flat = target.reshape((num_landmarks*2))\n",
    "\n",
    "conditioned_trajs_error = jnp.linalg.norm(conditioned_trajs[:, -1] - target_flat)\n",
    "# conditioned_trajs_corr_error = jnp.linalg.norm(conditioned_trajs_corr[:, -1] - target)\n",
    "forward_trajs_error = jnp.linalg.norm(forward_trajs[:, -1] - target_flat)\n",
    "\n",
    "print(conditioned_trajs_error)\n",
    "print(forward_trajs_error)"
   ],
   "metadata": {
    "collapsed": false
   },
   "id": "1ccff8f4ba204186"
  },
  {
   "cell_type": "code",
   "execution_count": null,
   "outputs": [],
   "source": [],
   "metadata": {
    "collapsed": false
   },
   "id": "4f839e99f70d2590"
  }
 ],
 "metadata": {
  "kernelspec": {
   "display_name": "Python 3",
   "language": "python",
   "name": "python3"
  },
  "language_info": {
   "codemirror_mode": {
    "name": "ipython",
    "version": 2
   },
   "file_extension": ".py",
   "mimetype": "text/x-python",
   "name": "python",
   "nbconvert_exporter": "python",
   "pygments_lexer": "ipython2",
   "version": "2.7.6"
  }
 },
 "nbformat": 4,
 "nbformat_minor": 5
}
