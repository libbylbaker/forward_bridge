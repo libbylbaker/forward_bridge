{
 "cells": [
  {
   "cell_type": "code",
   "execution_count": 14,
   "id": "initial_id",
   "metadata": {
    "collapsed": true,
    "ExecuteTime": {
     "end_time": "2024-04-25T12:45:44.283410Z",
     "start_time": "2024-04-25T12:45:44.272130Z"
    }
   },
   "outputs": [],
   "source": [
    "import jax.numpy as jnp\n",
    "import jax\n",
    "import src.models\n",
    "import src.data_generate_sde.sde_ornstein_uhlenbeck as ou\n",
    "import orbax.checkpoint\n",
    "from src.training import utils\n",
    "import flax.linen as nn"
   ]
  },
  {
   "cell_type": "markdown",
   "source": [
    "Setup to load in checkpoint"
   ],
   "metadata": {
    "collapsed": false
   },
   "id": "686eba7e2e914bf1"
  },
  {
   "cell_type": "code",
   "execution_count": 15,
   "outputs": [],
   "source": [
    "orbax_checkpointer = orbax.checkpoint.PyTreeCheckpointer()\n",
    "\n",
    "\n",
    "sde = {\"x0\": jnp.ones(shape=(8,)), \"N\": 100, \"dim\": 8, \"T\": 1.0, \"y\": jnp.ones(shape=(8,))}\n",
    "y = sde[\"y\"]\n",
    "dim = sde[\"dim\"]\n",
    "T = sde[\"T\"]\n",
    "checkpoint_path = f\"/Users/libbybaker/Documents/Python/doobs-score-project/doobs_score_matching/checkpoints/ou/fixed_y_{y}_d_{dim}_T_{T}\"\n",
    "\n",
    "\n",
    "drift, diffusion = ou.vector_fields()\n",
    "score_fn = utils.get_score(drift=drift, diffusion=diffusion)\n",
    "train_step = utils.create_train_step_reverse(score_fn)\n",
    "data_fn = ou.data_reverse(sde[\"y\"], sde[\"T\"], sde[\"N\"])\n",
    "\n",
    "network = {\n",
    "    \"output_dim\": sde[\"dim\"],\n",
    "    \"time_embedding_dim\": 16,\n",
    "    \"init_embedding_dim\": 16,\n",
    "    \"activation\": nn.leaky_relu,\n",
    "    \"encoder_layer_dims\": [16],\n",
    "    \"decoder_layer_dims\": [128, 128],\n",
    "}\n",
    "\n",
    "training = {\n",
    "    \"batch_size\": 1000,\n",
    "    \"epochs_per_load\": 1,\n",
    "    \"lr\": 0.01,\n",
    "    \"num_reloads\": 1000,\n",
    "    \"load_size\": 1000,\n",
    "}\n",
    "\n",
    "num_samples = training[\"batch_size\"] * sde[\"N\"]\n",
    "x_shape = jnp.empty(shape=(num_samples, sde[\"dim\"]))\n",
    "t_shape = jnp.empty(shape=(num_samples, 1))\n",
    "model = src.models.ScoreMLP(**network)\n",
    "\n",
    "empty_train_state = utils.create_train_state(model, jax.random.PRNGKey(0), training[\"lr\"], x_shape, t_shape)\n",
    "target = {\"state\":empty_train_state, \"sde\":sde, \"network\":network, \"training\":training}\n",
    "\n",
    "restored = orbax_checkpointer.restore(checkpoint_path, target)\n",
    "train_state = restored[\"state\"]\n",
    "trained_score = utils.trained_score(train_state)\n"
   ],
   "metadata": {
    "collapsed": false,
    "ExecuteTime": {
     "end_time": "2024-04-25T12:45:45.394338Z",
     "start_time": "2024-04-25T12:45:45.241188Z"
    }
   },
   "id": "974c319ce28b31bb"
  },
  {
   "cell_type": "code",
   "execution_count": null,
   "outputs": [],
   "source": [
    "\n"
   ],
   "metadata": {
    "collapsed": false
   },
   "id": "dba53d2fc3ea2c9"
  },
  {
   "cell_type": "markdown",
   "source": [
    "Find errors for different d and T"
   ],
   "metadata": {
    "collapsed": false
   },
   "id": "7ca4f241e31ef929"
  },
  {
   "cell_type": "code",
   "execution_count": 16,
   "outputs": [],
   "source": [
    "def error(ts, true_score, trained_score):\n",
    "    true = jax.vmap(true_score, in_axes=(0, None, None, None))(ts, sde[\"x0\"], sde[\"T\"], sde[\"y\"])\n",
    "    trained = jax.vmap(trained_score, in_axes=(0, None))(ts, jnp.asarray(sde[\"x0\"]))\n",
    "    return jnp.mean(jnp.abs(true - trained))"
   ],
   "metadata": {
    "collapsed": false,
    "ExecuteTime": {
     "end_time": "2024-04-25T12:45:46.747323Z",
     "start_time": "2024-04-25T12:45:46.744849Z"
    }
   },
   "id": "8fc007321cb2d406"
  },
  {
   "cell_type": "code",
   "execution_count": 22,
   "outputs": [],
   "source": [
    "from src.data_generate_sde import sde_ornstein_uhlenbeck, time\n",
    "\n",
    "true_score = sde_ornstein_uhlenbeck.score\n",
    "ts = time.grid(0, sde[\"T\"], sde[\"N\"])\n",
    "error_d_8_T_1 = error(ts[:-1], true_score, trained_score)"
   ],
   "metadata": {
    "collapsed": false,
    "ExecuteTime": {
     "end_time": "2024-04-25T12:56:11.352551Z",
     "start_time": "2024-04-25T12:56:11.136065Z"
    }
   },
   "id": "df13f52a4b4a85e8"
  },
  {
   "cell_type": "code",
   "execution_count": 23,
   "outputs": [
    {
     "name": "stdout",
     "output_type": "stream",
     "text": [
      "1.1553881\n"
     ]
    }
   ],
   "source": [
    "print(error_d_8_T_1)"
   ],
   "metadata": {
    "collapsed": false,
    "ExecuteTime": {
     "end_time": "2024-04-25T12:56:14.758914Z",
     "start_time": "2024-04-25T12:56:14.755229Z"
    }
   },
   "id": "1ff9497753e707d0"
  },
  {
   "cell_type": "code",
   "execution_count": null,
   "outputs": [],
   "source": [
    "from tueplots import bundles\n",
    "import matplotlib.pyplot as plt\n",
    "\n",
    "bundle = bundles.neurips2023()\n",
    "plt.rcParams.update(bundle)\n",
    "\n",
    "true_score = sde_ornstein_uhlenbeck.score"
   ],
   "metadata": {
    "collapsed": false
   },
   "id": "6eef61d7d9cb334b"
  },
  {
   "cell_type": "code",
   "execution_count": null,
   "outputs": [],
   "source": [
    "fig, axs = plot_score_variable_y(true_score, trained_score, -1, 1, -1, 1)\n",
    "plt.savefig('ou_score_varied_y_-1.0_to_1.0.pdf')\n",
    "plt.show()"
   ],
   "metadata": {
    "collapsed": false
   },
   "id": "cd13dcd9fc816ecd"
  },
  {
   "cell_type": "code",
   "execution_count": null,
   "outputs": [],
   "source": [
    "plot_score_error_variable_y(true_score, trained_score, -3, 3, -1, 1)"
   ],
   "metadata": {
    "collapsed": false
   },
   "id": "3e3c34c1b48f27f2"
  }
 ],
 "metadata": {
  "kernelspec": {
   "display_name": "Python 3",
   "language": "python",
   "name": "python3"
  },
  "language_info": {
   "codemirror_mode": {
    "name": "ipython",
    "version": 2
   },
   "file_extension": ".py",
   "mimetype": "text/x-python",
   "name": "python",
   "nbconvert_exporter": "python",
   "pygments_lexer": "ipython2",
   "version": "2.7.6"
  }
 },
 "nbformat": 4,
 "nbformat_minor": 5
}
