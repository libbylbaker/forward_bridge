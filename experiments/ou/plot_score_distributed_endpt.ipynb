{
 "cells": [
  {
   "cell_type": "code",
   "execution_count": null,
   "id": "initial_id",
   "metadata": {
    "collapsed": true
   },
   "outputs": [],
   "source": [
    "import jax.numpy as jnp\n",
    "import jax\n",
    "import src.models\n",
    "from experiments.plotting import plot_score_variable_y, plot_score_error_variable_y\n",
    "\n",
    "import orbax.checkpoint\n",
    "from src.training import utils\n",
    "import flax.linen as nn"
   ]
  },
  {
   "cell_type": "markdown",
   "source": [
    "Setup to load in checkpoint"
   ],
   "metadata": {
    "collapsed": false
   },
   "id": "686eba7e2e914bf1"
  },
  {
   "cell_type": "code",
   "execution_count": null,
   "outputs": [],
   "source": [
    "orbax_checkpointer = orbax.checkpoint.PyTreeCheckpointer()\n",
    "\n",
    "\n",
    "sde = {\"x0\": (1.,), \"N\": 100, \"dim\": 1, \"T\": 1., \"y\": (5.,)}\n",
    "network = {\n",
    "    \"output_dim\": sde[\"dim\"],\n",
    "    \"time_embedding_dim\": 16,\n",
    "    \"init_embedding_dim\": 16,\n",
    "    \"activation\": nn.leaky_relu,\n",
    "    \"encoder_layer_dims\": [16],\n",
    "    \"decoder_layer_dims\": [128, 128],\n",
    "}\n",
    "\n",
    "training = {\n",
    "    \"batch_size\": 1000,\n",
    "    \"epochs_per_load\": 1,\n",
    "    \"lr\": 0.01,\n",
    "    \"num_reloads\": 1000,\n",
    "    \"load_size\": 1000,\n",
    "}\n",
    "\n",
    "\n",
    "num_samples = training[\"batch_size\"] * sde[\"N\"]\n",
    "x_shape = jnp.empty(shape=(num_samples, sde[\"dim\"]))\n",
    "t_shape = jnp.empty(shape=(num_samples, 1))\n",
    "model = src.models.ScoreMLPDistributedEndpt(**network)\n",
    "empty_train_state = utils.create_train_state(model, jax.random.PRNGKey(0), training[\"lr\"], x_shape, x_shape, t_shape)\n",
    "target = {\"state\":empty_train_state, \"sde\":sde, \"network\":network, \"training\":training}\n",
    "\n",
    "restored = orbax_checkpointer.restore('/Users/libbybaker/Documents/Python/doobs-score-project/doobs_score_matching/checkpoints/ou/varied_y_-1.0_to_1.0', item=target)\n",
    "train_state = restored[\"state\"]\n",
    "trained_score = utils.trained_score_variable_y(train_state)\n"
   ],
   "metadata": {
    "collapsed": false
   },
   "id": "974c319ce28b31bb"
  },
  {
   "cell_type": "code",
   "execution_count": null,
   "outputs": [],
   "source": [
    "from src.data_generate_sde import sde_ornstein_uhlenbeck\n",
    "from tueplots import bundles\n",
    "import matplotlib.pyplot as plt\n",
    "\n",
    "bundle = bundles.neurips2023()\n",
    "plt.rcParams.update(bundle)\n",
    "\n",
    "true_score = sde_ornstein_uhlenbeck.score"
   ],
   "metadata": {
    "collapsed": false
   },
   "id": "6eef61d7d9cb334b"
  },
  {
   "cell_type": "code",
   "execution_count": null,
   "outputs": [],
   "source": [
    "fig, axs = plot_score_variable_y(true_score, trained_score, -1, 1, -1, 1)\n",
    "plt.savefig('ou_score_varied_y_-1.0_to_1.0.pdf')\n",
    "plt.show()"
   ],
   "metadata": {
    "collapsed": false
   },
   "id": "cd13dcd9fc816ecd"
  },
  {
   "cell_type": "code",
   "execution_count": null,
   "outputs": [],
   "source": [
    "plot_score_error_variable_y(true_score, trained_score, -3, 3, -1, 1)"
   ],
   "metadata": {
    "collapsed": false
   },
   "id": "3e3c34c1b48f27f2"
  }
 ],
 "metadata": {
  "kernelspec": {
   "display_name": "Python 3",
   "language": "python",
   "name": "python3"
  },
  "language_info": {
   "codemirror_mode": {
    "name": "ipython",
    "version": 2
   },
   "file_extension": ".py",
   "mimetype": "text/x-python",
   "name": "python",
   "nbconvert_exporter": "python",
   "pygments_lexer": "ipython2",
   "version": "2.7.6"
  }
 },
 "nbformat": 4,
 "nbformat_minor": 5
}
