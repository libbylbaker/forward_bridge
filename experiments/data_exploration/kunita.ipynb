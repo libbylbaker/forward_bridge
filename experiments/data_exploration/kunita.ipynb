{
 "cells": [
  {
   "cell_type": "code",
   "execution_count": null,
   "id": "initial_id",
   "metadata": {
    "collapsed": true
   },
   "outputs": [],
   "source": [
    "import jax.numpy as jnp\n",
    "import jax\n",
    "import matplotlib.pyplot as plt\n",
    "from matplotlib import colormaps\n",
    "from matplotlib.collections import LineCollection\n",
    "\n",
    "\n",
    "from src.sdes import sde_kunita, sde_utils\n",
    "import src.sdes.time as time"
   ]
  },
  {
   "cell_type": "code",
   "execution_count": null,
   "outputs": [],
   "source": [
    "def x0(num_landmarks):\n",
    "    x0_1 = jnp.linspace(0, 1, num_landmarks)\n",
    "    x0_2 = jnp.zeros(num_landmarks)\n",
    "    x0 = jnp.stack([x0_1, x0_2], axis=1).flatten()\n",
    "    return x0\n",
    "\n",
    "def sample_circle(num_landmarks: int, radius=1., centre=jnp.asarray([0, 0])) -> jnp.ndarray:\n",
    "    theta = jnp.linspace(0, 2 * jnp.pi, num_landmarks, endpoint=False)\n",
    "    x = jnp.cos(theta)\n",
    "    y = jnp.sin(theta)\n",
    "    return (radius * jnp.stack([x, y], axis=1) + centre).flatten()"
   ],
   "metadata": {
    "collapsed": false
   },
   "id": "3814e117b970dd76"
  },
  {
   "cell_type": "markdown",
   "source": [
    "Setup for both forward and reverse data generation"
   ],
   "metadata": {
    "collapsed": false
   },
   "id": "901841575cc6e320"
  },
  {
   "cell_type": "code",
   "execution_count": null,
   "outputs": [],
   "source": [
    "lots_of_landmarks = 200\n",
    "less_landmarks = 5\n",
    "\n",
    "x0_less = sample_circle(less_landmarks, 0.5)\n",
    "x0_lots = sample_circle(lots_of_landmarks, 0.5)\n",
    "\n",
    "num_trajs = 2\n",
    "T = 1.\n",
    "N = 100\n",
    "\n",
    "keys = jax.random.split(jax.random.PRNGKey(0), num_trajs)"
   ],
   "metadata": {
    "collapsed": false
   },
   "id": "a2c798401446fcd1"
  },
  {
   "cell_type": "markdown",
   "source": [
    "Forward data generation"
   ],
   "metadata": {
    "collapsed": false
   },
   "id": "61853dba2d09def4"
  },
  {
   "cell_type": "code",
   "execution_count": null,
   "outputs": [],
   "source": [
    "forward_lots = sde_kunita.data_forward(x0_lots, T, N)\n",
    "_, fw_trajs_lots, _ = forward_lots(keys)\n",
    "\n",
    "forward_less = sde_kunita.data_forward(x0_less, T, N)\n",
    "_, fw_trajs_less, _ = forward_less(keys)\n"
   ],
   "metadata": {
    "collapsed": false
   },
   "id": "884f42d12575becf"
  },
  {
   "cell_type": "code",
   "execution_count": null,
   "outputs": [],
   "source": [
    "fw_trajs_lots = fw_trajs_lots.reshape(num_trajs, N, -1, 2)\n",
    "fw_trajs_less = fw_trajs_less.reshape(num_trajs, N, -1, 2)\n",
    "\n",
    "for landmark in jnp.arange(0,less_landmarks, 1):\n",
    "    plt.plot(fw_trajs_less[0, :, landmark, 0], fw_trajs_less[0, :, landmark, 1])\n",
    "plt.show()\n",
    "\n",
    "for landmark in jnp.arange(0, lots_of_landmarks, 1):\n",
    "    plt.plot(fw_trajs_lots[0, :, landmark, 0], fw_trajs_lots[0, :, landmark, 1])\n",
    "plt.show()\n"
   ],
   "metadata": {
    "collapsed": false
   },
   "id": "e0f3a86e007b08ae"
  },
  {
   "cell_type": "markdown",
   "source": [
    "Reverse data generation (without correction computation)"
   ],
   "metadata": {
    "collapsed": false
   },
   "id": "4c43a290835f95df"
  },
  {
   "cell_type": "code",
   "execution_count": null,
   "outputs": [],
   "source": [
    "vector_fields = sde_kunita.vector_fields_reverse()\n",
    "backward_lots = sde_utils.data_forward(x0_lots, T, N, vector_fields, bm_shape=(2 * 5 ** 2,))\n",
    "_, bw_trajs_lots, _ = backward_lots(keys)\n",
    "\n",
    "\n",
    "backward_less = sde_utils.data_forward(x0_less, T, N, vector_fields, bm_shape=(2 * 5 ** 2,))\n",
    "_, bw_trajs_less, _ = backward_less(keys)"
   ],
   "metadata": {
    "collapsed": false
   },
   "id": "1aa1db7e16646365"
  },
  {
   "cell_type": "code",
   "execution_count": null,
   "outputs": [],
   "source": [
    "bw_trajs_lots = bw_trajs_lots.reshape(num_trajs, N, -1, 2)\n",
    "bw_trajs_less = bw_trajs_less.reshape(num_trajs, N, -1, 2)\n",
    "\n",
    "fig, ax = plt.subplots()\n",
    "\n",
    "for landmark in jnp.arange(0, less_landmarks, 1):\n",
    "    x = bw_trajs_less[0, :, landmark, 0]\n",
    "    y = bw_trajs_less[0, :, landmark, 1]\n",
    "    points = jnp.array([x, y]).T.reshape(-1, 1, 2)\n",
    "    segments = jnp.concatenate([points[:-1], points[1:]], axis=1)\n",
    "    norm = plt.Normalize(0, N)\n",
    "    lc = LineCollection(segments, cmap='viridis')\n",
    "    lc.set_array(jnp.arange(0, N, 1))\n",
    "    lc.set_linewidth(2)\n",
    "    line = ax.add_collection(lc)\n",
    "c = 0.1\n",
    "ax.set_xlim([bw_trajs_less[0, :, :, 0].min() - c, bw_trajs_less[0, :, :, 0].max() + c])\n",
    "ax.set_ylim([bw_trajs_less[0, :, :, 1].min() - c, bw_trajs_less[0, :, :, 1].max() + c])\n",
    "    # plt.plot(bw_trajs_less[0, :, landmark, 0], bw_trajs_less[0, :, landmark, 1])\n",
    "plt.show()\n",
    "\n",
    "fig, ax = plt.subplots()\n",
    "for landmark in jnp.arange(0, lots_of_landmarks, 10):\n",
    "    x = bw_trajs_lots[0, :30, landmark, 0]\n",
    "    y = bw_trajs_lots[0, :30, landmark, 1]\n",
    "    points = jnp.array([x, y]).T.reshape(-1, 1, 2)\n",
    "    segments = jnp.concatenate([points[:-1], points[1:]], axis=1)\n",
    "    lc = LineCollection(segments, cmap='viridis')\n",
    "    lc.set_array(jnp.arange(0, N, 1))\n",
    "    lc.set_linewidth(2)\n",
    "    line = plt.gca().add_collection(lc)\n",
    "    # plt.plot(bw_trajs_lots[0, :, landmark, 0], bw_trajs_lots[0, :, landmark, 1])\n",
    "c = 0.5\n",
    "ax.set_xlim([bw_trajs_less[0, :, :, 0].min() - c, bw_trajs_less[0, :, :, 0].max() + c])\n",
    "ax.set_ylim([bw_trajs_less[0, :, :, 1].min() - c, bw_trajs_less[0, :, :, 1].max() + c])\n",
    "plt.show()"
   ],
   "metadata": {
    "collapsed": false
   },
   "id": "7ead96892097d74c"
  },
  {
   "cell_type": "markdown",
   "source": [
    "Reverse data generation (with correction computation)"
   ],
   "metadata": {
    "collapsed": false
   },
   "id": "e23fd7b8a7e79e05"
  },
  {
   "cell_type": "code",
   "execution_count": null,
   "outputs": [],
   "source": [
    "backward_lots = sde_kunita.data_reverse(x0_lots, T, N)\n",
    "_, bw_trajs_lots, _ = backward_lots(keys)\n",
    "\n",
    "backward_less = sde_kunita.data_reverse(x0_less, T, N)\n",
    "_, bw_trajs_less, _ = backward_less(keys)\n",
    "\n",
    "forward_lots = sde_kunita.data_forward(x0_lots, T, N)\n",
    "_, fw_trajs_lots, _ = forward_lots(keys)"
   ],
   "metadata": {
    "collapsed": false
   },
   "id": "7e5bd8a89b209a75"
  },
  {
   "cell_type": "code",
   "execution_count": null,
   "outputs": [],
   "source": [
    "bw_trajs_lots = bw_trajs_lots.reshape(num_trajs, N, -1, 2)\n",
    "bw_trajs_less = bw_trajs_less.reshape(num_trajs, N, -1, 2)\n",
    "\n",
    "fw_trajs_lots = fw_trajs_lots.reshape(num_trajs, N, -1, 2)\n",
    "\n",
    "for landmark in jnp.arange(0, less_landmarks, 1):\n",
    "    plt.plot(bw_trajs_less[0, :, landmark, 0], bw_trajs_less[0, :, landmark, 1])\n",
    "plt.show()\n",
    "\n",
    "for landmark in jnp.arange(0, lots_of_landmarks, 40):\n",
    "    plt.scatter(bw_trajs_lots[0, 0, landmark, 0], bw_trajs_lots[0, 0, landmark, 1], c='r')\n",
    "    plt.plot(bw_trajs_lots[0, :, landmark, 0], bw_trajs_lots[0, :, landmark, 1])\n",
    "    plt.scatter(fw_trajs_lots[0, 0, landmark, 0], fw_trajs_lots[0, 0, landmark, 1], c='g')\n",
    "    plt.plot(fw_trajs_lots[0, :, landmark, 0], fw_trajs_lots[0, :, landmark, 1])\n",
    "plt.show()"
   ],
   "metadata": {
    "collapsed": false
   },
   "id": "6a2ea85ac9c1951c"
  },
  {
   "cell_type": "code",
   "execution_count": null,
   "outputs": [],
   "source": [],
   "metadata": {
    "collapsed": false
   },
   "id": "15ad6c0f81d24c48"
  }
 ],
 "metadata": {
  "kernelspec": {
   "display_name": "Python 3",
   "language": "python",
   "name": "python3"
  },
  "language_info": {
   "codemirror_mode": {
    "name": "ipython",
    "version": 2
   },
   "file_extension": ".py",
   "mimetype": "text/x-python",
   "name": "python",
   "nbconvert_exporter": "python",
   "pygments_lexer": "ipython2",
   "version": "2.7.6"
  }
 },
 "nbformat": 4,
 "nbformat_minor": 5
}
