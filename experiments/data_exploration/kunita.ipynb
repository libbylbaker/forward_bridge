{
 "cells": [
  {
   "cell_type": "code",
   "execution_count": 10,
   "id": "initial_id",
   "metadata": {
    "collapsed": true,
    "ExecuteTime": {
     "end_time": "2024-06-27T12:14:04.840414Z",
     "start_time": "2024-06-27T12:14:04.835734Z"
    }
   },
   "outputs": [],
   "source": [
    "from functools import partial\n",
    "\n",
    "import jax.numpy as jnp\n",
    "import jax.random as jr\n",
    "import jax\n",
    "import matplotlib.pyplot as plt\n",
    "\n",
    "from src.sdes import sde_kunita, sde_utils\n",
    "import src.sdes.time as time\n",
    "from src import plotting"
   ]
  },
  {
   "cell_type": "code",
   "execution_count": 11,
   "outputs": [],
   "source": [
    "def x0(num_landmarks):\n",
    "    x0_1 = jnp.linspace(0, 1, num_landmarks)\n",
    "    x0_2 = jnp.zeros(num_landmarks)\n",
    "    x0 = jnp.stack([x0_1, x0_2], axis=1).flatten()\n",
    "    return x0\n",
    "\n",
    "def sample_circle(num_landmarks: int, radius=1., centre=jnp.asarray([0, 0])) -> jnp.ndarray:\n",
    "    theta = jnp.linspace(0, 2 * jnp.pi, num_landmarks, endpoint=False)\n",
    "    x = jnp.cos(theta)\n",
    "    y = jnp.sin(theta)\n",
    "    return (radius * jnp.stack([x, y], axis=1) + centre).flatten()\n",
    "\n",
    "lots_of_landmarks = 1000\n",
    "\n",
    "x0_10 = sample_circle(5)\n",
    "x0_lots = sample_circle(lots_of_landmarks)\n",
    "\n",
    "num_trajs = 2\n",
    "\n",
    "T = 1.\n",
    "N = 100\n",
    "\n",
    "keys = jax.random.split(jax.random.PRNGKey(0), num_trajs)\n",
    "\n",
    "data_fn_lots = sde_kunita.data_forward(x0_lots, T, N)\n",
    "_, trajs_lots, _ = data_fn_lots(keys)\n",
    "\n",
    "data_fn_less = sde_kunita.data_forward(x0_10, T, N)\n",
    "_, trajs_10, _ = data_fn_less(keys)\n",
    "\n"
   ],
   "metadata": {
    "collapsed": false,
    "ExecuteTime": {
     "end_time": "2024-06-27T12:14:05.996674Z",
     "start_time": "2024-06-27T12:14:05.185698Z"
    }
   },
   "id": "884f42d12575becf"
  },
  {
   "cell_type": "code",
   "execution_count": 15,
   "outputs": [
    {
     "name": "stdout",
     "output_type": "stream",
     "text": [
      "[ 1.0000000e+00  0.0000000e+00  9.0096885e-01  4.3388376e-01\n",
      "  6.2348974e-01  7.8183150e-01  2.2252086e-01  9.7492790e-01\n",
      " -2.2252107e-01  9.7492790e-01 -6.2348998e-01  7.8183138e-01\n",
      " -9.0096891e-01  4.3388361e-01 -1.0000000e+00 -3.2584137e-07\n",
      " -9.0096873e-01 -4.3388399e-01 -6.2348962e-01 -7.8183162e-01\n",
      " -2.2252055e-01 -9.7492802e-01  2.2252150e-01 -9.7492778e-01\n",
      "  6.2349004e-01 -7.8183132e-01  9.0096909e-01 -4.3388331e-01]\n",
      "(28,)\n",
      "[[1.5034391e-04 0.0000000e+00 1.8315640e-03 ... 0.0000000e+00\n",
      "  8.2085002e-03 0.0000000e+00]\n",
      " [0.0000000e+00 1.5034391e-04 0.0000000e+00 ... 1.3533528e-02\n",
      "  0.0000000e+00 8.2085002e-03]\n",
      " [7.6955017e-05 0.0000000e+00 8.4911071e-04 ... 0.0000000e+00\n",
      "  1.6036628e-02 0.0000000e+00]\n",
      " ...\n",
      " [0.0000000e+00 1.5247837e-03 0.0000000e+00 ... 1.9444861e-03\n",
      "  0.0000000e+00 8.0935948e-04]\n",
      " [4.3648490e-04 0.0000000e+00 4.8161163e-03 ... 0.0000000e+00\n",
      "  2.8273556e-03 0.0000000e+00]\n",
      " [0.0000000e+00 4.3648490e-04 0.0000000e+00 ... 5.1467880e-03\n",
      "  0.0000000e+00 2.8273556e-03]]\n"
     ]
    }
   ],
   "source": [
    "from src.data_boundary_pts import sample_circle\n",
    "\n",
    "_, diffusion = sde_kunita.vector_fields()\n",
    "x = sample_circle(14, radius=1.0)\n",
    "\n",
    "print(x)\n",
    "print(x.shape)\n",
    "\n",
    "diffusion_ = diffusion(0.0, x)\n",
    "print(diffusion_)\n",
    "# print(diffusion_@diffusion_.T)\n"
   ],
   "metadata": {
    "collapsed": false,
    "ExecuteTime": {
     "end_time": "2024-06-27T12:19:37.694239Z",
     "start_time": "2024-06-27T12:19:37.681922Z"
    }
   },
   "id": "1edd9947d007574f"
  },
  {
   "cell_type": "code",
   "execution_count": null,
   "outputs": [],
   "source": [
    "trajs_lots = trajs_lots.reshape(num_trajs, N, lots_of_landmarks, 2)\n",
    "trajs_less = trajs_10.reshape(num_trajs, N, 5, 2)"
   ],
   "metadata": {
    "collapsed": false,
    "ExecuteTime": {
     "start_time": "2024-06-24T09:50:10.563183Z"
    }
   },
   "id": "c59147beb9ca3a25"
  },
  {
   "cell_type": "code",
   "execution_count": null,
   "outputs": [],
   "source": [
    "for landmark in jnp.arange(0, 5, 1):\n",
    "    plt.plot(trajs_less[0, :, landmark, 0], trajs_less[0, :, landmark, 1])\n",
    "    plt.scatter(trajs_less[0, 0, landmark, 0], trajs_less[0, 0, landmark, 1])\n",
    "plt.show()\n",
    "\n",
    "for landmark in jnp.arange(0, lots_of_landmarks, 100):\n",
    "    plt.plot(trajs_lots[0, :, landmark, 0], trajs_lots[0, :, landmark, 1])\n",
    "plt.show()\n"
   ],
   "metadata": {
    "collapsed": false,
    "ExecuteTime": {
     "start_time": "2024-06-24T09:50:10.564592Z"
    }
   },
   "id": "e0f3a86e007b08ae"
  },
  {
   "cell_type": "code",
   "execution_count": null,
   "outputs": [],
   "source": [
    "def x0(num_landmarks):\n",
    "    x0_1 = jnp.linspace(0, 1, num_landmarks)\n",
    "    x0_2 = jnp.zeros(num_landmarks)\n",
    "    x0 = jnp.stack([x0_1, x0_2], axis=1).flatten()\n",
    "    return x0\n",
    "\n",
    "lots_of_landmarks = 100\n",
    "x0_10 = sample_circle(10)\n",
    "# x0_lots = sample_circle(lots_of_landmarks)\n",
    "\n",
    "time_grid = time.grid(0, T, N)\n",
    "\n",
    "data_fn_less = sde_kunita.data_reverse(x0_10, T, N)\n",
    "\n",
    "ts, reverse, corr = data_fn_less(keys)\n",
    "\n",
    "reverse = reverse.reshape(num_trajs, N, 10, 2)\n",
    "\n",
    "for landmark in jnp.arange(0, 10, 1):\n",
    "    plt.plot(reverse[0, :, landmark, 0], reverse[0, :, landmark, 1])\n",
    "    plt.scatter(reverse[0, 0, landmark, 0], reverse[0, 0, landmark, 1])\n",
    "    \n",
    "plt.show()\n",
    "\n",
    "for corr_ in corr:\n",
    "    plt.scatter(1.0, corr_)\n",
    "\n",
    "plt.show()"
   ],
   "metadata": {
    "collapsed": false,
    "ExecuteTime": {
     "start_time": "2024-06-24T09:50:10.565439Z"
    }
   },
   "id": "24fa085b845ef45"
  },
  {
   "cell_type": "code",
   "execution_count": null,
   "outputs": [],
   "source": [
    "def x0(num_landmarks):\n",
    "    x0_1 = jnp.linspace(0, 1, num_landmarks)\n",
    "    x0_2 = jnp.zeros(num_landmarks)\n",
    "    x0 = jnp.stack([x0_1, x0_2], axis=1).flatten()\n",
    "    return x0\n",
    "\n",
    "lots_of_landmarks = 100\n",
    "x0_10 = sample_circle(10)\n",
    "x0_lots = sample_circle(lots_of_landmarks)\n",
    "\n",
    "time_grid = time.grid(0, T, N)\n",
    "rev_drift, rev_diffusion = sde_kunita.vector_fields_reverse()\n",
    "\n",
    "rev_trajs_10 = jax.vmap(sde_utils.solution, (0, None, None, None, None, None))(keys, time_grid, x0_10, rev_drift, rev_diffusion, (2*sde_kunita.GRID_SIZE**2,))\n",
    "rev_trajs_lots = jax.vmap(sde_utils.solution, (0, None, None, None, None, None))(keys, time_grid, x0_lots, rev_drift, rev_diffusion, (2*sde_kunita.GRID_SIZE**2,))\n",
    "\n",
    "# , bm_shape=(2*sde_kunita.noise_dim(),)"
   ],
   "metadata": {
    "collapsed": false,
    "ExecuteTime": {
     "start_time": "2024-06-24T09:50:10.566427Z"
    }
   },
   "id": "52b077d5d4556366"
  },
  {
   "cell_type": "code",
   "execution_count": null,
   "outputs": [],
   "source": [
    "rev_trajs_10 = rev_trajs_10.reshape(num_trajs, N, 10, 2)\n",
    "rev_trajs_lots = rev_trajs_lots.reshape(num_trajs, N, lots_of_landmarks, 2)"
   ],
   "metadata": {
    "collapsed": false,
    "ExecuteTime": {
     "start_time": "2024-06-24T09:50:10.567851Z"
    }
   },
   "id": "61fb16635e9e4df1"
  },
  {
   "cell_type": "code",
   "execution_count": null,
   "outputs": [],
   "source": [
    "for landmark in jnp.arange(0, 10, 1):\n",
    "    plt.plot(rev_trajs_10[0, :, landmark, 0], rev_trajs_10[0, :, landmark, 1])\n",
    "    plt.scatter(rev_trajs_10[0, 0, landmark, 0], rev_trajs_10[0, 0, landmark, 1], c='r')\n",
    "    plt.scatter(rev_trajs_10[0, -1, landmark, 0], rev_trajs_10[0, -1, landmark, 1], c='g')\n",
    "    \n",
    "# plt.xlim((0, 1))\n",
    "# plt.ylim((-1,0))\n",
    "plt.show()\n",
    "\n",
    "for landmark in jnp.arange(0, lots_of_landmarks, 1):\n",
    "    plt.plot(rev_trajs_lots[0, :, landmark, 0], rev_trajs_lots[0, :, landmark, 1])\n",
    "    plt.scatter(rev_trajs_lots[0, 0, landmark, 0], rev_trajs_lots[0, 0, landmark, 1], c='r')\n",
    "    plt.scatter(rev_trajs_lots[0, -1, landmark, 0], rev_trajs_lots[0, -1, landmark, 1], c='g')\n",
    "    \n",
    "# plt.xlim((0, 1))\n",
    "# plt.ylim((-1,0))\n",
    "plt.show()\n"
   ],
   "metadata": {
    "collapsed": false,
    "ExecuteTime": {
     "start_time": "2024-06-24T09:50:10.569089Z"
    }
   },
   "id": "3e8cc166f8516598"
  },
  {
   "cell_type": "code",
   "execution_count": null,
   "outputs": [],
   "source": [
    "grid_range=(-1, 2)\n",
    "grid_size=5\n",
    "def grid():\n",
    "    grid = jnp.linspace(*grid_range, grid_size)\n",
    "    grid = jnp.stack(jnp.meshgrid(grid, grid, indexing=\"xy\"), axis=-1)\n",
    "    return grid\n",
    "\n",
    "print(grid())"
   ],
   "metadata": {
    "collapsed": false,
    "ExecuteTime": {
     "start_time": "2024-06-24T09:50:10.570306Z"
    }
   },
   "id": "b5924985ceb373fd"
  }
 ],
 "metadata": {
  "kernelspec": {
   "display_name": "Python 3",
   "language": "python",
   "name": "python3"
  },
  "language_info": {
   "codemirror_mode": {
    "name": "ipython",
    "version": 2
   },
   "file_extension": ".py",
   "mimetype": "text/x-python",
   "name": "python",
   "nbconvert_exporter": "python",
   "pygments_lexer": "ipython2",
   "version": "2.7.6"
  }
 },
 "nbformat": 4,
 "nbformat_minor": 5
}
